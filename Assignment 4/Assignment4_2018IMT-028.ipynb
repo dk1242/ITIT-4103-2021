{
 "cells": [
  {
   "cell_type": "markdown",
   "metadata": {},
   "source": [
    "<center><h1>Assignment 4</h1></center>"
   ]
  },
  {
   "cell_type": "markdown",
   "metadata": {
    "id": "MXQ6CN0eXk7Y"
   },
   "source": [
    "## Name: Dhruval Kushwaha\n",
    "## Roll No: 2018IMT-028\n",
    "### **Course: Machine Learning Lab**\n",
    "### **Course Code: ITIT-4107-2021**\n",
    "### **Deadline: 2 Oct 2021**"
   ]
  },
  {
   "cell_type": "markdown",
   "metadata": {
    "id": "yh36rWhjYxDe"
   },
   "source": [
    "### Problem:\n",
    "\n",
    "Suppose you are the CEO of a restaurant franchise and are considering different cities for opening a new outlet. The chain already has trucks in various cities and you have data for profits and populations from the cities. You would like to use this data to help you select which city to expand to next.\n",
    "The file ex1data1.txt contains the dataset for our linear regression problem. The first column is the population of a city and the second column is the profit of a food truck in that city. A negative value for profit indicates a\n",
    "loss.\n",
    "1. Use a scatter plot to visualize the data, since it has only two properties to plot (profit and population).\n",
    "2. Consider a simple linear model with two parameters and one input variable and mean square error cost function to implement the gradient descent algorithm to find the intercepts. Assume a  suitable terminating condition. \n",
    "3. Plot the model alongside the scatterplot to show the fit model.\n",
    "4. Perform steps 1,2,3 in batch mode for varying values of alpha, learning rate and plot the results.\n",
    "5. For each of the experiments performed above in steps 1,2,3,4 with varying learning rates visualize the cost function as a contour plot as well as plot the values of parameters to visualize the stepwise traversion of the parameters on this contour plot.\n"
   ]
  },
  {
   "cell_type": "code",
   "execution_count": 1,
   "metadata": {
    "id": "LdLbfeUV6UPw"
   },
   "outputs": [],
   "source": [
    "import numpy as np\n",
    "import matplotlib.pyplot as plt\n",
    "import pandas as pd\n"
   ]
  },
  {
   "cell_type": "code",
   "execution_count": 2,
   "metadata": {
    "id": "SA-FJHkX6UP2"
   },
   "outputs": [],
   "source": [
    "df=pd.read_csv(\"dataset.csv\",names = ['population','profit'],header = None)"
   ]
  },
  {
   "cell_type": "code",
   "execution_count": 3,
   "metadata": {
    "colab": {
     "base_uri": "https://localhost:8080/",
     "height": 202
    },
    "id": "x4EVWP1E6UP3",
    "outputId": "5b00e9c6-506c-40f0-87ed-d318bf3d2bb0"
   },
   "outputs": [
    {
     "data": {
      "text/html": [
       "<div>\n",
       "<style scoped>\n",
       "    .dataframe tbody tr th:only-of-type {\n",
       "        vertical-align: middle;\n",
       "    }\n",
       "\n",
       "    .dataframe tbody tr th {\n",
       "        vertical-align: top;\n",
       "    }\n",
       "\n",
       "    .dataframe thead th {\n",
       "        text-align: right;\n",
       "    }\n",
       "</style>\n",
       "<table border=\"1\" class=\"dataframe\">\n",
       "  <thead>\n",
       "    <tr style=\"text-align: right;\">\n",
       "      <th></th>\n",
       "      <th>population</th>\n",
       "      <th>profit</th>\n",
       "    </tr>\n",
       "  </thead>\n",
       "  <tbody>\n",
       "    <tr>\n",
       "      <th>0</th>\n",
       "      <td>6.1101</td>\n",
       "      <td>17.5920</td>\n",
       "    </tr>\n",
       "    <tr>\n",
       "      <th>1</th>\n",
       "      <td>5.5277</td>\n",
       "      <td>9.1302</td>\n",
       "    </tr>\n",
       "    <tr>\n",
       "      <th>2</th>\n",
       "      <td>8.5186</td>\n",
       "      <td>13.6620</td>\n",
       "    </tr>\n",
       "    <tr>\n",
       "      <th>3</th>\n",
       "      <td>7.0032</td>\n",
       "      <td>11.8540</td>\n",
       "    </tr>\n",
       "    <tr>\n",
       "      <th>4</th>\n",
       "      <td>5.8598</td>\n",
       "      <td>6.8233</td>\n",
       "    </tr>\n",
       "  </tbody>\n",
       "</table>\n",
       "</div>"
      ],
      "text/plain": [
       "   population   profit\n",
       "0      6.1101  17.5920\n",
       "1      5.5277   9.1302\n",
       "2      8.5186  13.6620\n",
       "3      7.0032  11.8540\n",
       "4      5.8598   6.8233"
      ]
     },
     "execution_count": 3,
     "metadata": {},
     "output_type": "execute_result"
    }
   ],
   "source": [
    "df.head()"
   ]
  },
  {
   "cell_type": "code",
   "execution_count": 4,
   "metadata": {
    "colab": {
     "base_uri": "https://localhost:8080/",
     "height": 294
    },
    "id": "M-4A-NkY6UP5",
    "outputId": "51e0e5d8-9f97-4724-f9cd-b46c3c14ccf0"
   },
   "outputs": [
    {
     "data": {
      "text/html": [
       "<div>\n",
       "<style scoped>\n",
       "    .dataframe tbody tr th:only-of-type {\n",
       "        vertical-align: middle;\n",
       "    }\n",
       "\n",
       "    .dataframe tbody tr th {\n",
       "        vertical-align: top;\n",
       "    }\n",
       "\n",
       "    .dataframe thead th {\n",
       "        text-align: right;\n",
       "    }\n",
       "</style>\n",
       "<table border=\"1\" class=\"dataframe\">\n",
       "  <thead>\n",
       "    <tr style=\"text-align: right;\">\n",
       "      <th></th>\n",
       "      <th>population</th>\n",
       "      <th>profit</th>\n",
       "    </tr>\n",
       "  </thead>\n",
       "  <tbody>\n",
       "    <tr>\n",
       "      <th>count</th>\n",
       "      <td>97.000000</td>\n",
       "      <td>97.000000</td>\n",
       "    </tr>\n",
       "    <tr>\n",
       "      <th>mean</th>\n",
       "      <td>8.159800</td>\n",
       "      <td>5.839135</td>\n",
       "    </tr>\n",
       "    <tr>\n",
       "      <th>std</th>\n",
       "      <td>3.869884</td>\n",
       "      <td>5.510262</td>\n",
       "    </tr>\n",
       "    <tr>\n",
       "      <th>min</th>\n",
       "      <td>5.026900</td>\n",
       "      <td>-2.680700</td>\n",
       "    </tr>\n",
       "    <tr>\n",
       "      <th>25%</th>\n",
       "      <td>5.707700</td>\n",
       "      <td>1.986900</td>\n",
       "    </tr>\n",
       "    <tr>\n",
       "      <th>50%</th>\n",
       "      <td>6.589400</td>\n",
       "      <td>4.562300</td>\n",
       "    </tr>\n",
       "    <tr>\n",
       "      <th>75%</th>\n",
       "      <td>8.578100</td>\n",
       "      <td>7.046700</td>\n",
       "    </tr>\n",
       "    <tr>\n",
       "      <th>max</th>\n",
       "      <td>22.203000</td>\n",
       "      <td>24.147000</td>\n",
       "    </tr>\n",
       "  </tbody>\n",
       "</table>\n",
       "</div>"
      ],
      "text/plain": [
       "       population     profit\n",
       "count   97.000000  97.000000\n",
       "mean     8.159800   5.839135\n",
       "std      3.869884   5.510262\n",
       "min      5.026900  -2.680700\n",
       "25%      5.707700   1.986900\n",
       "50%      6.589400   4.562300\n",
       "75%      8.578100   7.046700\n",
       "max     22.203000  24.147000"
      ]
     },
     "execution_count": 4,
     "metadata": {},
     "output_type": "execute_result"
    }
   ],
   "source": [
    "df.describe()"
   ]
  },
  {
   "cell_type": "markdown",
   "metadata": {
    "id": "Q-nkkU9N6UP5"
   },
   "source": [
    "## Visualizing the Data"
   ]
  },
  {
   "cell_type": "code",
   "execution_count": 5,
   "metadata": {
    "colab": {
     "base_uri": "https://localhost:8080/",
     "height": 312
    },
    "id": "VdxP9haa6UP8",
    "outputId": "f10d3247-be4b-4e55-a1c4-a3dc860dcba8"
   },
   "outputs": [
    {
     "data": {
      "text/plain": [
       "Text(0, 0.5, 'Profit')"
      ]
     },
     "execution_count": 5,
     "metadata": {},
     "output_type": "execute_result"
    },
    {
     "data": {
      "image/png": "[encoded data removed]",
      "text/plain": [
       "<Figure size 432x288 with 1 Axes>"
      ]
     },
     "metadata": {
      "needs_background": "light"
     },
     "output_type": "display_data"
    }
   ],
   "source": [
    "plt.scatter(df['population'],df['profit'])\n",
    "plt.title(\"Profit Vs Population\")\n",
    "plt.xticks(np.arange(5,30,step=5))\n",
    "plt.yticks(np.arange(-5,30,step=5))\n",
    "plt.xlabel(\"Population\")\n",
    "plt.ylabel(\"Profit\")"
   ]
  },
  {
   "cell_type": "code",
   "execution_count": 6,
   "metadata": {
    "id": "t7nyYsHh6UP-"
   },
   "outputs": [],
   "source": [
    "def computeCost(X,y,theta):\n",
    "    m=len(y)\n",
    "    predictions=X.dot(theta)\n",
    "    square_err=(predictions - y)**2\n",
    "    \n",
    "    return 1/(2*m) * np.sum(square_err)"
   ]
  },
  {
   "cell_type": "code",
   "execution_count": 7,
   "metadata": {
    "colab": {
     "base_uri": "https://localhost:8080/"
    },
    "id": "DEv-QAl06UP_",
    "outputId": "40e0ff00-76f2-418c-ef34-98f02d6e63bd"
   },
   "outputs": [
    {
     "data": {
      "text/plain": [
       "32.072733877455676"
      ]
     },
     "execution_count": 7,
     "metadata": {},
     "output_type": "execute_result"
    }
   ],
   "source": [
    "data_n=df.values\n",
    "m=len(data_n[:,-1])\n",
    "X=np.append(np.ones((m,1)),data_n[:,0].reshape(m,1),axis=1)\n",
    "y=data_n[:,1].reshape(m,1)\n",
    "theta=np.zeros((2,1))\n",
    "computeCost(X,y,theta)"
   ]
  },
  {
   "cell_type": "code",
   "execution_count": 8,
   "metadata": {
    "id": "Eyy_ftdE6UQA"
   },
   "outputs": [],
   "source": [
    "\n",
    "def gradientDescent(X,y,theta,alpha,num_iters):\n",
    "    \n",
    "    m=len(y)\n",
    "    J_history=[]\n",
    "    \n",
    "    for i in range(num_iters):\n",
    "        predictions = X.dot(theta)\n",
    "        error = np.dot(X.transpose(),(predictions -y))\n",
    "        descent=alpha * 1/m * error\n",
    "        theta-=descent\n",
    "        J_history.append(computeCost(X,y,theta))\n",
    "    \n",
    "    return theta, J_history"
   ]
  },
  {
   "cell_type": "code",
   "execution_count": 9,
   "metadata": {
    "id": "eOWGEJts6UQB"
   },
   "outputs": [],
   "source": [
    "def plot_model_fit(alpha,theta):\n",
    "    plt.scatter(df['population'],df['profit'])\n",
    "    plt.title(\"Profit vs Population with alpha = {}\\n\".format(alpha))\n",
    "    x_value=[x for x in range(25)]\n",
    "    y_value=[y*theta[1]+theta[0] for y in x_value]\n",
    "    plt.plot(x_value,y_value,color=\"r\")\n",
    "    plt.xticks(np.arange(5,30,step=5))\n",
    "    plt.yticks(np.arange(-5,30,step=5))\n",
    "    plt.xlabel(\"Population\")\n",
    "    plt.ylabel(\"Profit\")\n",
    "\n",
    "def func(i):\n",
    "  theta=np.zeros((2,1))\n",
    "  alpha = alpha_values[i]\n",
    "  theta,J_history = gradientDescent(X,y,theta,alpha,100)\n",
    "  print('The ALPHA value, learning_rate: {}'.format(alpha))\n",
    "  print('The THETA value: {}'.format(theta))\n",
    "  print('\\nHypothesis Function:')\n",
    "  print(\"h(x) =\"+str(round(theta[0,0],2))+\" + \"+str(round(theta[1,0],2))+\"x1\")\n",
    "  J_histories.append(J_history)\n",
    "  plot_model_fit(alpha,theta)"
   ]
  },
  {
   "cell_type": "code",
   "execution_count": 10,
   "metadata": {
    "colab": {
     "base_uri": "https://localhost:8080/",
     "height": 427
    },
    "id": "5XnbNwqe6UQB",
    "outputId": "1fa8d909-5c17-4f1f-9542-98bbd2da9240"
   },
   "outputs": [
    {
     "name": "stdout",
     "output_type": "stream",
     "text": [
      "Alpha values: (10) [0.001 0.003 0.005 0.007 0.009 0.011 0.013 0.015 0.017 0.019]\n",
      "The ALPHA value, learning_rate: 0.001\n",
      "The THETA value: [[0.00868909]\n",
      " [0.80063674]]\n",
      "\n",
      "Hypothesis Function:\n",
      "h(x) =0.01 + 0.8x1\n"
     ]
    },
    {
     "data": {
      "image/png": "[encoded data removed]",
      "text/plain": [
       "<Figure size 432x288 with 1 Axes>"
      ]
     },
     "metadata": {
      "needs_background": "light"
     },
     "output_type": "display_data"
    }
   ],
   "source": [
    "\n",
    "alpha_values = np.arange(0.001, 0.02, 0.002)\n",
    "J_histories =[]\n",
    "\n",
    "print(\"Alpha values: ({})\".format(len(alpha_values)), alpha_values)\n",
    "func(0)\n"
   ]
  },
  {
   "cell_type": "code",
   "execution_count": 11,
   "metadata": {
    "colab": {
     "base_uri": "https://localhost:8080/",
     "height": 410
    },
    "id": "8ieonGRt6UQC",
    "outputId": "3d8ffd44-59c7-4c93-f88b-acd4bdf5a473"
   },
   "outputs": [
    {
     "name": "stdout",
     "output_type": "stream",
     "text": [
      "The ALPHA value, learning_rate: 0.003\n",
      "The THETA value: [[-0.12960188]\n",
      " [ 0.81468011]]\n",
      "\n",
      "Hypothesis Function:\n",
      "h(x) =-0.13 + 0.81x1\n"
     ]
    },
    {
     "data": {
      "image/png": "[encoded data removed]",
      "text/plain": [
       "<Figure size 432x288 with 1 Axes>"
      ]
     },
     "metadata": {
      "needs_background": "light"
     },
     "output_type": "display_data"
    }
   ],
   "source": [
    "func(1)"
   ]
  },
  {
   "cell_type": "code",
   "execution_count": 12,
   "metadata": {
    "colab": {
     "base_uri": "https://localhost:8080/",
     "height": 410
    },
    "id": "x3mFq4Jo6UQD",
    "outputId": "5131b716-77df-4fa6-e625-a22843174fa5"
   },
   "outputs": [
    {
     "name": "stdout",
     "output_type": "stream",
     "text": [
      "The ALPHA value, learning_rate: 0.005\n",
      "The THETA value: [[-0.26305598]\n",
      " [ 0.82808702]]\n",
      "\n",
      "Hypothesis Function:\n",
      "h(x) =-0.26 + 0.83x1\n"
     ]
    },
    {
     "data": {
      "image/png": "[encoded data removed]",
      "text/plain": [
       "<Figure size 432x288 with 1 Axes>"
      ]
     },
     "metadata": {
      "needs_background": "light"
     },
     "output_type": "display_data"
    }
   ],
   "source": [
    "func(2)"
   ]
  },
  {
   "cell_type": "code",
   "execution_count": 13,
   "metadata": {
    "colab": {
     "base_uri": "https://localhost:8080/",
     "height": 410
    },
    "id": "1aoVu8dh6UQE",
    "outputId": "9ab3df28-6a05-4399-a164-46b5f3f1b82d"
   },
   "outputs": [
    {
     "name": "stdout",
     "output_type": "stream",
     "text": [
      "The ALPHA value, learning_rate: 0.007\n",
      "The THETA value: [[-0.39182677]\n",
      " [ 0.84102345]]\n",
      "\n",
      "Hypothesis Function:\n",
      "h(x) =-0.39 + 0.84x1\n"
     ]
    },
    {
     "data": {
      "image/png": "[encoded data removed]",
      "text/plain": [
       "<Figure size 432x288 with 1 Axes>"
      ]
     },
     "metadata": {
      "needs_background": "light"
     },
     "output_type": "display_data"
    }
   ],
   "source": [
    "func(3)"
   ]
  },
  {
   "cell_type": "code",
   "execution_count": 14,
   "metadata": {
    "colab": {
     "base_uri": "https://localhost:8080/",
     "height": 410
    },
    "id": "fMB2t_Lx6UQF",
    "outputId": "eedb3f14-ea0c-46bb-89dd-5d4734c224d4"
   },
   "outputs": [
    {
     "name": "stdout",
     "output_type": "stream",
     "text": [
      "The ALPHA value, learning_rate: 0.009000000000000001\n",
      "The THETA value: [[-0.516077  ]\n",
      " [ 0.85350573]]\n",
      "\n",
      "Hypothesis Function:\n",
      "h(x) =-0.52 + 0.85x1\n"
     ]
    },
    {
     "data": {
      "image/png": "[encoded data removed]",
      "text/plain": [
       "<Figure size 432x288 with 1 Axes>"
      ]
     },
     "metadata": {
      "needs_background": "light"
     },
     "output_type": "display_data"
    }
   ],
   "source": [
    "func(4)"
   ]
  },
  {
   "cell_type": "code",
   "execution_count": 15,
   "metadata": {
    "colab": {
     "base_uri": "https://localhost:8080/",
     "height": 410
    },
    "id": "xl0PkjrF6UQF",
    "outputId": "63bf6a67-d939-4c72-f0b1-7df7a1fa257b"
   },
   "outputs": [
    {
     "name": "stdout",
     "output_type": "stream",
     "text": [
      "The ALPHA value, learning_rate: 0.011\n",
      "The THETA value: [[-0.63596383]\n",
      " [ 0.86554966]]\n",
      "\n",
      "Hypothesis Function:\n",
      "h(x) =-0.64 + 0.87x1\n"
     ]
    },
    {
     "data": {
      "image/png": "[encoded data removed]",
      "text/plain": [
       "<Figure size 432x288 with 1 Axes>"
      ]
     },
     "metadata": {
      "needs_background": "light"
     },
     "output_type": "display_data"
    }
   ],
   "source": [
    "func(5)"
   ]
  },
  {
   "cell_type": "code",
   "execution_count": 16,
   "metadata": {
    "colab": {
     "base_uri": "https://localhost:8080/",
     "height": 410
    },
    "id": "M6m31Kwo6UQG",
    "outputId": "e6934581-09d7-403b-cb0d-d540a8cafa64"
   },
   "outputs": [
    {
     "name": "stdout",
     "output_type": "stream",
     "text": [
      "The ALPHA value, learning_rate: 0.013000000000000001\n",
      "The THETA value: [[-0.75163899]\n",
      " [ 0.87717049]]\n",
      "\n",
      "Hypothesis Function:\n",
      "h(x) =-0.75 + 0.88x1\n"
     ]
    },
    {
     "data": {
      "image/png": "[encoded data removed]",
      "text/plain": [
       "<Figure size 432x288 with 1 Axes>"
      ]
     },
     "metadata": {
      "needs_background": "light"
     },
     "output_type": "display_data"
    }
   ],
   "source": [
    "func(6)"
   ]
  },
  {
   "cell_type": "code",
   "execution_count": 17,
   "metadata": {
    "colab": {
     "base_uri": "https://localhost:8080/",
     "height": 410
    },
    "id": "m3loZ9Ab6UQH",
    "outputId": "7915b066-43ca-4961-d54f-c4c087934d9b"
   },
   "outputs": [
    {
     "name": "stdout",
     "output_type": "stream",
     "text": [
      "The ALPHA value, learning_rate: 0.015\n",
      "The THETA value: [[-0.863249  ]\n",
      " [ 0.88838292]]\n",
      "\n",
      "Hypothesis Function:\n",
      "h(x) =-0.86 + 0.89x1\n"
     ]
    },
    {
     "data": {
      "image/png": "[encoded data removed]",
      "text/plain": [
       "<Figure size 432x288 with 1 Axes>"
      ]
     },
     "metadata": {
      "needs_background": "light"
     },
     "output_type": "display_data"
    }
   ],
   "source": [
    "func(7)"
   ]
  },
  {
   "cell_type": "code",
   "execution_count": 18,
   "metadata": {
    "colab": {
     "base_uri": "https://localhost:8080/",
     "height": 410
    },
    "id": "tiYZha-E6UQH",
    "outputId": "667180e4-299e-46d9-c8af-a6924964c01f"
   },
   "outputs": [
    {
     "name": "stdout",
     "output_type": "stream",
     "text": [
      "The ALPHA value, learning_rate: 0.017\n",
      "The THETA value: [[-0.97093532]\n",
      " [ 0.89920118]]\n",
      "\n",
      "Hypothesis Function:\n",
      "h(x) =-0.97 + 0.9x1\n"
     ]
    },
    {
     "data": {
      "image/png": "[encoded data removed]",
      "text/plain": [
       "<Figure size 432x288 with 1 Axes>"
      ]
     },
     "metadata": {
      "needs_background": "light"
     },
     "output_type": "display_data"
    }
   ],
   "source": [
    "func(8)"
   ]
  },
  {
   "cell_type": "code",
   "execution_count": 19,
   "metadata": {
    "colab": {
     "base_uri": "https://localhost:8080/",
     "height": 410
    },
    "id": "kzB04KMD6UQH",
    "outputId": "3609039f-bc94-4881-9299-50928cbff986"
   },
   "outputs": [
    {
     "name": "stdout",
     "output_type": "stream",
     "text": [
      "The ALPHA value, learning_rate: 0.019000000000000003\n",
      "The THETA value: [[-1.07483455]\n",
      " [ 0.90963899]]\n",
      "\n",
      "Hypothesis Function:\n",
      "h(x) =-1.07 + 0.91x1\n"
     ]
    },
    {
     "data": {
      "image/png": "[encoded data removed]",
      "text/plain": [
       "<Figure size 432x288 with 1 Axes>"
      ]
     },
     "metadata": {
      "needs_background": "light"
     },
     "output_type": "display_data"
    }
   ],
   "source": [
    "func(9)"
   ]
  },
  {
   "cell_type": "code",
   "execution_count": 20,
   "metadata": {
    "colab": {
     "base_uri": "https://localhost:8080/"
    },
    "id": "xvcvI8-G6UQJ",
    "outputId": "c4cfd0ef-f022-4046-c1be-3a2c5eb8b040"
   },
   "outputs": [
    {
     "data": {
      "text/plain": [
       "100"
      ]
     },
     "execution_count": 20,
     "metadata": {},
     "output_type": "execute_result"
    }
   ],
   "source": [
    "\n",
    "x = np.arange(1,125,1.25)\n",
    "y = alpha_values\n",
    "len(x)"
   ]
  },
  {
   "cell_type": "code",
   "execution_count": 21,
   "metadata": {
    "colab": {
     "base_uri": "https://localhost:8080/"
    },
    "id": "DJMYPQa06UQJ",
    "outputId": "e02b20ee-115e-4fd6-8b6d-7e486a48ac33"
   },
   "outputs": [
    {
     "name": "stdout",
     "output_type": "stream",
     "text": [
      "5.376953190466999\n"
     ]
    },
    {
     "data": {
      "text/plain": [
       "27.94761974682486"
      ]
     },
     "execution_count": 21,
     "metadata": {},
     "output_type": "execute_result"
    }
   ],
   "source": [
    "print(min(min(J_histories)))\n",
    "max(max(J_histories))"
   ]
  },
  {
   "cell_type": "code",
   "execution_count": 22,
   "metadata": {
    "colab": {
     "base_uri": "https://localhost:8080/",
     "height": 483
    },
    "id": "CJQPTA4B6UQJ",
    "outputId": "7ffa41ae-00c1-4bf5-c6dc-b3612578378f"
   },
   "outputs": [
    {
     "data": {
      "image/png": "[encoded data removed]",
      "text/plain": [
       "<Figure size 720x576 with 1 Axes>"
      ]
     },
     "metadata": {
      "needs_background": "light"
     },
     "output_type": "display_data"
    }
   ],
   "source": [
    "z = J_histories\n",
    "fig, ax = plt.subplots(1, 1,figsize=(10, 8))\n",
    "ax.contour(x,y,z)\n",
    "plt.show()"
   ]
  },
  {
   "cell_type": "code",
   "execution_count": 24,
   "metadata": {
    "colab": {
     "base_uri": "https://localhost:8080/",
     "height": 542
    },
    "id": "brYNTQ1Q6UQK",
    "outputId": "5c3bf1bd-ab78-4f43-9648-3e03f91a4cae"
   },
   "outputs": [
    {
     "data": {
      "application/vnd.plotly.v1+json": {
       "config": {
        "plotlyServerURL": "https://plot.ly"
       },
       "data": [
        {
         "contours": {
          "coloring": "lines",
          "showlabels": true
         },
         "line": {
          "width": 2
         },
         "type": "contour",
         "x": [
          1,
          2.25,
          3.5,
          4.75,
          6,
          7.25,
          8.5,
          9.75,
          11,
          12.25,
          13.5,
          14.75,
          16,
          17.25,
          18.5,
          19.75,
          21,
          22.25,
          23.5,
          24.75,
          26,
          27.25,
          28.5,
          29.75,
          31,
          32.25,
          33.5,
          34.75,
          36,
          37.25,
          38.5,
          39.75,
          41,
          42.25,
          43.5,
          44.75,
          46,
          47.25,
          48.5,
          49.75,
          51,
          52.25,
          53.5,
          54.75,
          56,
          57.25,
          58.5,
          59.75,
          61,
          62.25,
          63.5,
          64.75,
          66,
          67.25,
          68.5,
          69.75,
          71,
          72.25,
          73.5,
          74.75,
          76,
          77.25,
          78.5,
          79.75,
          81,
          82.25,
          83.5,
          84.75,
          86,
          87.25,
          88.5,
          89.75,
          91,
          92.25,
          93.5,
          94.75,
          96,
          97.25,
          98.5,
          99.75,
          101,
          102.25,
          103.5,
          104.75,
          106,
          107.25,
          108.5,
          109.75,
          111,
          112.25,
          113.5,
          114.75,
          116,
          117.25,
          118.5,
          119.75,
          121,
          122.25,
          123.5,
          124.75
         ],
         "y": [
          0.001,
          0.003,
          0.005,
          0.007,
          0.009000000000000001,
          0.011,
          0.013000000000000001,
          0.015,
          0.017,
          0.019000000000000003
         ],
         "z": [
          [
           27.94761974682486,
           24.47289936878686,
           21.546014372181737,
           19.080578470011062,
           17.003827337947612,
           15.254470612915163,
           13.780882602778636,
           12.53957829693016,
           11.49392968963366,
           10.613084522018333,
           9.87105552400589,
           9.24595327061122,
           8.719340006549617,
           8.275685364065547,
           7.901907906784134,
           7.58698896596878,
           7.3216473696388755,
           7.09806546255755,
           6.909658329204911,
           6.750879407203457,
           6.617056752907819,
           6.504255125722265,
           6.409159819877734,
           6.328978814384741,
           6.261360352630684,
           6.2043235185728784,
           6.156199760137971,
           6.1155836335995,
           6.081291314908753,
           6.05232565323409,
           6.027846735090004,
           6.0071470901095285,
           5.989630806534878,
           5.974795939916073,
           5.962219695722611,
           5.951545948459219,
           5.942474728850203,
           5.934753368754301,
           5.928169042408084,
           5.922542483815581,
           5.9177226948215695,
           5.913582487650949,
           5.910014730330112,
           5.9069291841551355,
           5.9042498398489744,
           5.901912673771076,
           5.899863757942714,
           5.898057668096079,
           5.896456142752755,
           5.895026953747572,
           5.893742954855769,
           5.892581280438931,
           5.891522670453737,
           5.890550901897829,
           5.8896523099090405,
           5.888815384380902,
           5.888030430186462,
           5.88728928098029,
           5.8865850581300725,
           5.885911967661463,
           5.885265129222037,
           5.884640432015316,
           5.884034413452095,
           5.8834441569368305,
           5.882867205771727,
           5.882301490637018,
           5.881745268506645,
           5.881197071196092,
           5.880655662023556,
           5.8801199993050695,
           5.87958920560595,
           5.879062541840888,
           5.878539385458101,
           5.878019212063563,
           5.877501579942844,
           5.87698611702363,
           5.876472509894122,
           5.875960494553039,
           5.875449848618254,
           5.874940384764011,
           5.874431945193003,
           5.87392439698015,
           5.873417628150561,
           5.872911544375993,
           5.872406066192206,
           5.871901126655108,
           5.871396669366512,
           5.870892646811178,
           5.870389018956098,
           5.869885752070662,
           5.869382817732836,
           5.868880191992103,
           5.868377854664341,
           5.867875788737933,
           5.867373979873506,
           5.866872415982554,
           5.866371086872512,
           5.865869983947794,
           5.865369099957981,
           5.864868428785698
          ],
          [
           20.758431345144743,
           14.33684247589595,
           10.691891389240086,
           8.622695484373281,
           7.447748471780988,
           6.780292459606751,
           6.400840600194315,
           6.184833117417724,
           6.061581776112976,
           5.990970683429655,
           5.950233888580775,
           5.926451611103131,
           5.912291816573025,
           5.903593541630854,
           5.89799542003978,
           5.894157365042357,
           5.891318870589778,
           5.889048345298575,
           5.887100858341244,
           5.885337409597939,
           5.883679115103735,
           5.882081207083403,
           5.880518278853977,
           5.878975911240449,
           5.877445920528933,
           5.875923661658663,
           5.874406497771295,
           5.87289293167324,
           5.871382112936628,
           5.869873558176859,
           5.868366992308887,
           5.866862258459412,
           5.865359266841666,
           5.863857965741601,
           5.862358325052442,
           5.860860326930452,
           5.859363960492047,
           5.857869218804378,
           5.856376097177471,
           5.8548845921950186,
           5.853394701164331,
           5.8519064218041965,
           5.850419752067734,
           5.848934690041857,
           5.847451233890217,
           5.845969381820832,
           5.844489132067713,
           5.843010482880414,
           5.84153343251814,
           5.840057979246372,
           5.838584121334953,
           5.837111857057024,
           5.835641184688388,
           5.83417210250717,
           5.832704608793619,
           5.831238701829982,
           5.829774379900459,
           5.828311641291143,
           5.826850484290012,
           5.825390907186906,
           5.823932908273524,
           5.822476485843422,
           5.821021638191999,
           5.819568363616498,
           5.818116660416004,
           5.816666526891449,
           5.815217961345595,
           5.813770962083038,
           5.812325527410212,
           5.810881655635384,
           5.809439345068643,
           5.807998594021913,
           5.806559400808933,
           5.805121763745282,
           5.803685681148339,
           5.80225115133732,
           5.800818172633252,
           5.799386743358974,
           5.797956861839144,
           5.796528526400229,
           5.795101735370505,
           5.793676487080055,
           5.792252779860772,
           5.790830612046348,
           5.78940998197228,
           5.787990887975862,
           5.7865733283961855,
           5.785157301574139,
           5.783742805852409,
           5.782329839575467,
           5.780918401089579,
           5.779508488742796,
           5.778100100884961,
           5.776693235867694,
           5.7752878920444015,
           5.773884067770269,
           5.772481761402266,
           5.771080971299124,
           5.769681695821369,
           5.768283933331284
          ],
          [
           14.983962756239945,
           9.056203941047663,
           6.998880978009589,
           6.283756679195574,
           6.034085104841373,
           5.945826960067563,
           5.913547030682456,
           5.900682327431495,
           5.894553475901442,
           5.890763497940393,
           5.887787597368802,
           5.885096997646217,
           5.8825083234460624,
           5.879957978209342,
           5.8774239024498245,
           5.874898440980177,
           5.872378933767393,
           5.8698644530153326,
           5.867354671645216,
           5.864849470905553,
           5.862348804298512,
           5.859852650392074,
           5.857360996456141,
           5.854873832787822,
           5.852391150743548,
           5.849912942056599,
           5.847439198600441,
           5.844969912306628,
           5.842505075136321,
           5.840044679070392,
           5.837588716105965,
           5.83513717825522,
           5.832690057544945,
           5.830247346016369,
           5.827809035725089,
           5.825375118741022,
           5.822945587148377,
           5.820520433045625,
           5.818099648545484,
           5.815683225774871,
           5.813271156874895,
           5.810863434000824,
           5.8084600493220595,
           5.806060995022113,
           5.803666263298581,
           5.801275846363114,
           5.798889736441402,
           5.796507925773136,
           5.794130406611991,
           5.791757171225604,
           5.789388211895537,
           5.787023520917264,
           5.784663090600138,
           5.782306913267373,
           5.779954981256007,
           5.777607286916897,
           5.775263822614669,
           5.772924580727715,
           5.770589553648158,
           5.768258733781826,
           5.765932113548227,
           5.763609685380542,
           5.761291441725571,
           5.7589773750437265,
           5.756667477809009,
           5.754361742508976,
           5.752060161644725,
           5.749762727730861,
           5.747469433295478,
           5.74518027088013,
           5.742895233039812,
           5.740614312342933,
           5.738337501371296,
           5.73606479272006,
           5.733796178997735,
           5.731531652826146,
           5.729271206840409,
           5.727014833688915,
           5.724762526033297,
           5.722514276548411,
           5.720270077922318,
           5.718029922856238,
           5.71579380406456,
           5.713561714274785,
           5.711333646227528,
           5.709109592676478,
           5.706889546388381,
           5.704673500143021,
           5.702461446733184,
           5.7002533789646455,
           5.698049289656139,
           5.695849171639347,
           5.6936530177588605,
           5.69146082087216,
           5.689272573849603,
           5.68708826957439,
           5.684907900942542,
           5.6827314608628825,
           5.680558942257012,
           5.678390338059282
          ],
          [
           10.624213980110477,
           6.757417155882004,
           6.057876850896914,
           5.928907547964801,
           5.902730861236294,
           5.895079113028458,
           5.890771933975223,
           5.88707464679595,
           5.883494596050563,
           5.8799430140360585,
           5.876403891212307,
           5.87287432506188,
           5.869353774270777,
           5.8658421229290925,
           5.862339331807489,
           5.858845375536474,
           5.85536023128949,
           5.85188387674412,
           5.848416289714692,
           5.844957448085977,
           5.841507329801136,
           5.838065912859424,
           5.834633175315671,
           5.831209095280066,
           5.8277936509180135,
           5.824386820449975,
           5.820988582151358,
           5.817598914352343,
           5.814217795437776,
           5.810845203847005,
           5.807481118073768,
           5.804125516666033,
           5.800778378225874,
           5.7974396814093305,
           5.794109404926277,
           5.790787527540275,
           5.787474028068453,
           5.784168885381359,
           5.78087207840283,
           5.7775835861098574,
           5.774303387532461,
           5.771031461753536,
           5.76776778790874,
           5.7645123451863505,
           5.761265112827127,
           5.758026070124195,
           5.754795196422893,
           5.751572471120656,
           5.7483578736668814,
           5.745151383562794,
           5.741952980361318,
           5.738762643666945,
           5.735580353135606,
           5.732406088474539,
           5.729239829442164,
           5.726081555847948,
           5.722931247552281,
           5.7197888844663485,
           5.716654446551993,
           5.713527913821603,
           5.7104092663379715,
           5.707298484214177,
           5.704195547613448,
           5.7011004367490505,
           5.698013131884148,
           5.694933613331678,
           5.69186186145424,
           5.688797856663949,
           5.685741579422327,
           5.6826930102401745,
           5.6796521296774385,
           5.676618918343102,
           5.673593356895047,
           5.670575426039936,
           5.667565106533099,
           5.664562379178395,
           5.661567224828095,
           5.6585796243827655,
           5.65559955879114,
           5.652627009050004,
           5.649661956204065,
           5.64670438134584,
           5.643754265615529,
           5.640811590200901,
           5.637876336337162,
           5.634948485306852,
           5.632028018439719,
           5.629114917112588,
           5.62620916274926,
           5.6233107368203825,
           5.620419620843337,
           5.617535796382119,
           5.6146592450472195,
           5.611789948495508,
           5.6089278884301175,
           5.606073046600325,
           5.603225404801437,
           5.600384944874675,
           5.5975516487070545,
           5.594725498231276
          ],
          [
           7.679185016756334,
           6.02601352472886,
           5.909950110221885,
           5.897798698616645,
           5.892684989179206,
           5.888060896284361,
           5.883483768999434,
           5.878923642178009,
           5.874378445556908,
           5.869847994521658,
           5.8653322320596,
           5.860831109927463,
           5.856344580618639,
           5.851872596819761,
           5.847415111373502,
           5.842972077275605,
           5.838543447674211,
           5.8341291758693625,
           5.829729215312496,
           5.825343519605969,
           5.82097204250256,
           5.8166147379049775,
           5.8122715598653905,
           5.807942462584917,
           5.8036274004131725,
           5.799326327847763,
           5.79503919953382,
           5.790765970263515,
           5.786506594975583,
           5.782261028754854,
           5.778029226831776,
           5.773811144581931,
           5.76960673752559,
           5.765415961327218,
           5.761238771795022,
           5.757075124880481,
           5.7529249766778765,
           5.748788283423841,
           5.744665001496888,
           5.740555087416947,
           5.73645849784492,
           5.7323751895822115,
           5.728305119570279,
           5.724248244890177,
           5.720204522762105,
           5.716173910544957,
           5.712156365735871,
           5.708151845969782,
           5.70416030901897,
           5.700181712792624,
           5.696216015336392,
           5.692263174831936,
           5.6883231495965,
           5.684395898082463,
           5.6804813788769,
           5.676579550701153,
           5.67269037241039,
           5.6688138029931725,
           5.664949801571018,
           5.66109832739798,
           5.657259339860208,
           5.653432798475529,
           5.649618662893005,
           5.645816892892525,
           5.642027448384371,
           5.638250289408799,
           5.634485376135616,
           5.630732668863755,
           5.626992128020866,
           5.623263714162897,
           5.619547387973666,
           5.615843110264469,
           5.612150841973638,
           5.608470544166156,
           5.604802178033231,
           5.6011457048918905,
           5.597501086184574,
           5.593868283478727,
           5.590247258466393,
           5.586637972963812,
           5.583040388911021,
           5.579454468371442,
           5.5758801735314965,
           5.572317466700192,
           5.568766310308737,
           5.565226666910139,
           5.561698499178804,
           5.558181769910159,
           5.554676442020242,
           5.551182478545324,
           5.547699842641506,
           5.54422849758435,
           5.540768406768468,
           5.537319533707158,
           5.533881842032004,
           5.530455295492501,
           5.527039857955663,
           5.52363549340566,
           5.520242165943415,
           5.516859839786244
          ],
          [
           6.148875866177513,
           5.906622464607983,
           5.898807723807974,
           5.893155090428113,
           5.887544304203116,
           5.88195592423362,
           5.876389685811771,
           5.870845499611714,
           5.865323278252757,
           5.859822934714919,
           5.854344382323101,
           5.848887534745605,
           5.843452305992744,
           5.838038610415512,
           5.832646362704225,
           5.827275477887175,
           5.821925871329295,
           5.816597458730826,
           5.811290156125977,
           5.80600387988162,
           5.800738546695955,
           5.795494073597218,
           5.790270377942348,
           5.785067377415703,
           5.779884990027757,
           5.774723134113805,
           5.769581728332688,
           5.764460691665493,
           5.759359943414295,
           5.754279403200864,
           5.749218990965426,
           5.7441786269653745,
           5.739158231774033,
           5.734157726279389,
           5.72917703168286,
           5.724216069498045,
           5.719274761549487,
           5.714353029971441,
           5.709450797206655,
           5.704567986005139,
           5.699704519422946,
           5.694860320820968,
           5.690035313863729,
           5.6852294225181685,
           5.680442571052454,
           5.675674684034791,
           5.670925686332223,
           5.666195503109458,
           5.661484059827684,
           5.656791282243395,
           5.652117096407217,
           5.647461428662756,
           5.642824205645419,
           5.638205354281275,
           5.633604801785891,
           5.629022475663192,
           5.624458303704314,
           5.619912213986474,
           5.6153841348718245,
           5.610873995006335,
           5.606381723318665,
           5.601907249019038,
           5.5974505015981375,
           5.593011410825981,
           5.588589906750835,
           5.584185919698084,
           5.579799380269156,
           5.575430219340421,
           5.571078368062101,
           5.566743757857183,
           5.562426320420345,
           5.558125987716871,
           5.553842691981588,
           5.549576365717793,
           5.545326941696183,
           5.541094352953815,
           5.536878532793026,
           5.5326794147804055,
           5.528496932745727,
           5.5243310207809255,
           5.520181613239042,
           5.516048644733196,
           5.511932050135565,
           5.5078317645763395,
           5.503747723442707,
           5.499679862377849,
           5.495628117279903,
           5.491592424300968,
           5.487572719846099,
           5.483568940572289,
           5.479581023387496,
           5.47560890544962,
           5.471652524165541,
           5.467711817190112,
           5.46378672242518,
           5.45987717801862,
           5.455983122363347,
           5.452104494096349,
           5.448241232097722,
           5.444393275489706
          ],
          [
           6.0332865283740205,
           5.9029714052290005,
           5.8957117505319,
           5.889067487320581,
           5.882457088311258,
           5.875877647391994,
           5.8693290065936425,
           5.862811021670953,
           5.856323549115572,
           5.849866446091248,
           5.843439570430373,
           5.837042780630875,
           5.830675935853081,
           5.8243388959166245,
           5.81803152129736,
           5.811753673124296,
           5.805505213176527,
           5.7992860038801926,
           5.793095908305461,
           5.786934790163493,
           5.78080251380346,
           5.774698944209544,
           5.768623946997977,
           5.762577388414073,
           5.756559135329287,
           5.750569055238282,
           5.744607016256011,
           5.738672887114819,
           5.732766537161546,
           5.726887836354653,
           5.7210366552613605,
           5.715212865054796,
           5.709416337511163,
           5.703646945006904,
           5.69790456051591,
           5.69218905760671,
           5.686500310439689,
           5.680838193764323,
           5.67520258291642,
           5.669593353815366,
           5.664010382961406,
           5.658453547432919,
           5.652922724883709,
           5.647417793540319,
           5.641938632199336,
           5.636485120224742,
           5.6310571375452385,
           5.625654564651619,
           5.620277282594125,
           5.6149251729798335,
           5.609598117970051,
           5.604296000277717,
           5.599018703164823,
           5.5937661104398355,
           5.58853810645515,
           5.583334576104536,
           5.578155404820605,
           5.573000478572286,
           5.567869683862324,
           5.5627629077247605,
           5.557680037722471,
           5.552620961944677,
           5.547585569004479,
           5.542573748036412,
           5.537585388693996,
           5.53262038114732,
           5.527678616080604,
           5.522759984689813,
           5.517864378680245,
           5.512991690264158,
           5.50814181215839,
           5.503314637581999,
           5.4985100602539125,
           5.4937279743905885,
           5.48896827470368,
           5.484230856397731,
           5.479515615167851,
           5.474822447197431,
           5.470151249155858,
           5.465501918196229,
           5.460874351953098,
           5.456268448540219,
           5.451684106548299,
           5.447121225042771,
           5.442579703561567,
           5.438059442112908,
           5.433560341173102,
           5.4290823016843515,
           5.424625225052578,
           5.4201890131452455,
           5.4157735682892,
           5.411378793268525,
           5.407004591322388,
           5.40265086614293,
           5.398317521873127,
           5.3940044631046895,
           5.389711594875955,
           5.385438822669806,
           5.381186052411578,
           5.376953190466999
          ],
          [
           7.332417003345849,
           5.9778857889914105,
           5.896859315832296,
           5.885220365137622,
           5.8773989167416,
           5.869824165932682,
           5.8623014560824,
           5.854819978731034,
           5.847378937936586,
           5.839978084105321,
           5.8326171985085775,
           5.82529606520628,
           5.818014469512059,
           5.81077219790372,
           5.803569038012447,
           5.796404778616338,
           5.789279209634179,
           5.782192122119308,
           5.775143308253467,
           5.768132561340715,
           5.76115967580137,
           5.754224447165977,
           5.747326672069314,
           5.7404661482444315,
           5.7336426745167115,
           5.726856050797977,
           5.720106078080625,
           5.713392558431786,
           5.706715294987526,
           5.7000740919470605,
           5.693468754567034,
           5.6868990891557925,
           5.680364903067709,
           5.673866004697534,
           5.667402203474779,
           5.660973309858129,
           5.654579135329881,
           5.648219492390412,
           5.641894194552695,
           5.635603056336818,
           5.629345893264544,
           5.623122521853916,
           5.616932759613859,
           5.610776425038842,
           5.604653337603547,
           5.598563317757579,
           5.592506186920203,
           5.586481767475104,
           5.5804898827651765,
           5.574530357087354,
           5.568603015687442,
           5.562707684755009,
           5.556844191418281,
           5.551012363739073,
           5.545212030707746,
           5.539443022238197,
           5.533705169162872,
           5.527998303227796,
           5.522322257087647,
           5.5166768643008535,
           5.511061959324702,
           5.505477377510489,
           5.4999229550986914,
           5.494398529214172,
           5.488903937861391,
           5.48343901991966,
           5.4780036151384275,
           5.472597564132561,
           5.467220708377693,
           5.461872890205556,
           5.456553952799371,
           5.451263740189239,
           5.446002097247581,
           5.440768869684573,
           5.435563904043633,
           5.430387047696917,
           5.425238148840844,
           5.420117056491647,
           5.415023620480938,
           5.409957691451317,
           5.404919120851978,
           5.399907760934364,
           5.39492346474783,
           5.389966086135335,
           5.385035479729156,
           5.3801315009466215,
           5.375254005985879,
           5.370402851821675,
           5.365577896201154,
           5.360778997639705,
           5.356006015416789,
           5.351258809571834,
           5.346537240900119,
           5.341841170948692,
           5.337170462012318,
           5.332524977129429,
           5.327904580078124,
           5.323309135372158,
           5.318738508256978,
           5.314192564705769
          ],
          [
           10.04626729109301,
           6.553289070984578,
           5.993223337177487,
           5.89732672212324,
           5.874927916403833,
           5.864204116185344,
           5.855371782639969,
           5.846882432030815,
           5.83849075437498,
           5.830157664558207,
           5.821876713541745,
           5.8136466184604645,
           5.805466915585568,
           5.797337272409526,
           5.78925737877586,
           5.781226929641059,
           5.7732456223370745,
           5.765313156128522,
           5.75742923213309,
           5.749593553299471,
           5.74180582439447,
           5.734065751991597,
           5.726373044459971,
           5.718727411953339,
           5.7111285663991325,
           5.703576221487631,
           5.696070092661169,
           5.688609897103406,
           5.681195353728688,
           5.6738261831714345,
           5.666502107775636,
           5.6592228515843725,
           5.651988140329427,
           5.644797701420952,
           5.637651263937194,
           5.630548558614286,
           5.6234893178361025,
           5.616473275624183,
           5.609500167627704,
           5.602569731113514,
           5.595681704956244,
           5.588835829628468,
           5.582031847190912,
           5.575269501282755,
           5.568548537111954,
           5.561868701445648,
           5.5552297426006225,
           5.548631410433819,
           5.542073456332915,
           5.53555563320695,
           5.529077695477032,
           5.522639399067059,
           5.516240501394549,
           5.50988076136148,
           5.503559939345216,
           5.497277797189475,
           5.491034098195361,
           5.484828607112439,
           5.47866109012987,
           5.472531314867611,
           5.4664390503676525,
           5.460384067085317,
           5.454366136880609,
           5.448385033009623,
           5.442440530115996,
           5.43653240422242,
           5.430660432722203,
           5.424824394370878,
           5.419024069277872,
           5.413259238898213,
           5.407529686024307,
           5.4018351947777425,
           5.396175550601165,
           5.390550540250189,
           5.384959951785365,
           5.379403574564191,
           5.373881199233178,
           5.368392617719967,
           5.36293762322548,
           5.357516010216133,
           5.352127574416092,
           5.3467721127995755,
           5.341449423583207,
           5.336159306218405,
           5.330901561383837,
           5.3256759909779054,
           5.320482398111278,
           5.315320587099478,
           5.310190363455502,
           5.3050915338825035,
           5.300023906266499,
           5.2949872896691375,
           5.289981494320501,
           5.285006331611952,
           5.280061614089038,
           5.275147155444422,
           5.270262770510857,
           5.26540827525422,
           5.260583486766569,
           5.255788223259258
          ],
          [
           14.174837391615497,
           8.51020271898775,
           6.7128539994923315,
           6.138096453487713,
           5.949875523952463,
           5.883893121890161,
           5.856597697737877,
           5.841576211346162,
           5.8304785383124935,
           5.820664696287361,
           5.811299823860313,
           5.802119705583251,
           5.7930405235029845,
           5.784035489834361,
           5.775095847445231,
           5.766218541119521,
           5.75740232012125,
           5.748646506104002,
           5.739950603602947,
           5.731314176888363,
           5.722736811022823,
           5.714218099537355,
           5.7057576405225765,
           5.697355035380161,
           5.689009888415348,
           5.680721806695424,
           5.67249039999238,
           5.664315280752266,
           5.6561960640730415,
           5.648132367685252,
           5.640123811933625,
           5.6321700197590765,
           5.624270616680922,
           5.61642523077923,
           5.608633492677314,
           5.6008950355243305,
           5.593209494978012,
           5.585576509187517,
           5.577995718776381,
           5.57046676682561,
           5.562989298856865,
           5.555562962815783,
           5.548187409055393,
           5.540862290319653,
           5.533587261727114,
           5.52636198075466,
           5.519186107221406,
           5.512059303272663,
           5.504981233364036,
           5.497951564245631,
           5.490969964946362,
           5.484036106758368,
           5.477149663221532,
           5.4703103101081165,
           5.463517725407499,
           5.45677158931101,
           5.450071584196871,
           5.443417394615242,
           5.436808707273376,
           5.430245211020864,
           5.42372659683498,
           5.417252557806141,
           5.410822789123453,
           5.404436988060359,
           5.398094853960383,
           5.391796088222984,
           5.38554039428949,
           5.379327477629132,
           5.373157045725188,
           5.367028808061204,
           5.360942476107314,
           5.354897763306657,
           5.348894385061888,
           5.342932058721777,
           5.337010503567902,
           5.33112944080143,
           5.325288593529987,
           5.319487686754637,
           5.3137264473569115,
           5.308004604085973,
           5.302321887545825,
           5.296678030182644,
           5.291072766272172,
           5.285505831907207,
           5.279976964985185,
           5.274485905195829,
           5.269032394008902,
           5.2636161746620305,
           5.258236992148619,
           5.252894593205835,
           5.247588726302699,
           5.242319141628225,
           5.237085591079677,
           5.231887828250873,
           5.226725608420591,
           5.2215986885410475,
           5.216506827226449,
           5.211449784741632,
           5.206427322990775,
           5.201439205506186
          ]
         ]
        }
       ],
       "layout": {
        "template": {
         "data": {
          "bar": [
           {
            "error_x": {
             "color": "#2a3f5f"
            },
            "error_y": {
             "color": "#2a3f5f"
            },
            "marker": {
             "line": {
              "color": "#E5ECF6",
              "width": 0.5
             },
             "pattern": {
              "fillmode": "overlay",
              "size": 10,
              "solidity": 0.2
             }
            },
            "type": "bar"
           }
          ],
          "barpolar": [
           {
            "marker": {
             "line": {
              "color": "#E5ECF6",
              "width": 0.5
             },
             "pattern": {
              "fillmode": "overlay",
              "size": 10,
              "solidity": 0.2
             }
            },
            "type": "barpolar"
           }
          ],
          "carpet": [
           {
            "aaxis": {
             "endlinecolor": "#2a3f5f",
             "gridcolor": "white",
             "linecolor": "white",
             "minorgridcolor": "white",
             "startlinecolor": "#2a3f5f"
            },
            "baxis": {
             "endlinecolor": "#2a3f5f",
             "gridcolor": "white",
             "linecolor": "white",
             "minorgridcolor": "white",
             "startlinecolor": "#2a3f5f"
            },
            "type": "carpet"
           }
          ],
          "choropleth": [
           {
            "colorbar": {
             "outlinewidth": 0,
             "ticks": ""
            },
            "type": "choropleth"
           }
          ],
          "contour": [
           {
            "colorbar": {
             "outlinewidth": 0,
             "ticks": ""
            },
            "colorscale": [
             [
              0,
              "#0d0887"
             ],
             [
              0.1111111111111111,
              "#46039f"
             ],
             [
              0.2222222222222222,
              "#7201a8"
             ],
             [
              0.3333333333333333,
              "#9c179e"
             ],
             [
              0.4444444444444444,
              "#bd3786"
             ],
             [
              0.5555555555555556,
              "#d8576b"
             ],
             [
              0.6666666666666666,
              "#ed7953"
             ],
             [
              0.7777777777777778,
              "#fb9f3a"
             ],
             [
              0.8888888888888888,
              "#fdca26"
             ],
             [
              1,
              "#f0f921"
             ]
            ],
            "type": "contour"
           }
          ],
          "contourcarpet": [
           {
            "colorbar": {
             "outlinewidth": 0,
             "ticks": ""
            },
            "type": "contourcarpet"
           }
          ],
          "heatmap": [
           {
            "colorbar": {
             "outlinewidth": 0,
             "ticks": ""
            },
            "colorscale": [
             [
              0,
              "#0d0887"
             ],
             [
              0.1111111111111111,
              "#46039f"
             ],
             [
              0.2222222222222222,
              "#7201a8"
             ],
             [
              0.3333333333333333,
              "#9c179e"
             ],
             [
              0.4444444444444444,
              "#bd3786"
             ],
             [
              0.5555555555555556,
              "#d8576b"
             ],
             [
              0.6666666666666666,
              "#ed7953"
             ],
             [
              0.7777777777777778,
              "#fb9f3a"
             ],
             [
              0.8888888888888888,
              "#fdca26"
             ],
             [
              1,
              "#f0f921"
             ]
            ],
            "type": "heatmap"
           }
          ],
          "heatmapgl": [
           {
            "colorbar": {
             "outlinewidth": 0,
             "ticks": ""
            },
            "colorscale": [
             [
              0,
              "#0d0887"
             ],
             [
              0.1111111111111111,
              "#46039f"
             ],
             [
              0.2222222222222222,
              "#7201a8"
             ],
             [
              0.3333333333333333,
              "#9c179e"
             ],
             [
              0.4444444444444444,
              "#bd3786"
             ],
             [
              0.5555555555555556,
              "#d8576b"
             ],
             [
              0.6666666666666666,
              "#ed7953"
             ],
             [
              0.7777777777777778,
              "#fb9f3a"
             ],
             [
              0.8888888888888888,
              "#fdca26"
             ],
             [
              1,
              "#f0f921"
             ]
            ],
            "type": "heatmapgl"
           }
          ],
          "histogram": [
           {
            "marker": {
             "pattern": {
              "fillmode": "overlay",
              "size": 10,
              "solidity": 0.2
             }
            },
            "type": "histogram"
           }
          ],
          "histogram2d": [
           {
            "colorbar": {
             "outlinewidth": 0,
             "ticks": ""
            },
            "colorscale": [
             [
              0,
              "#0d0887"
             ],
             [
              0.1111111111111111,
              "#46039f"
             ],
             [
              0.2222222222222222,
              "#7201a8"
             ],
             [
              0.3333333333333333,
              "#9c179e"
             ],
             [
              0.4444444444444444,
              "#bd3786"
             ],
             [
              0.5555555555555556,
              "#d8576b"
             ],
             [
              0.6666666666666666,
              "#ed7953"
             ],
             [
              0.7777777777777778,
              "#fb9f3a"
             ],
             [
              0.8888888888888888,
              "#fdca26"
             ],
             [
              1,
              "#f0f921"
             ]
            ],
            "type": "histogram2d"
           }
          ],
          "histogram2dcontour": [
           {
            "colorbar": {
             "outlinewidth": 0,
             "ticks": ""
            },
            "colorscale": [
             [
              0,
              "#0d0887"
             ],
             [
              0.1111111111111111,
              "#46039f"
             ],
             [
              0.2222222222222222,
              "#7201a8"
             ],
             [
              0.3333333333333333,
              "#9c179e"
             ],
             [
              0.4444444444444444,
              "#bd3786"
             ],
             [
              0.5555555555555556,
              "#d8576b"
             ],
             [
              0.6666666666666666,
              "#ed7953"
             ],
             [
              0.7777777777777778,
              "#fb9f3a"
             ],
             [
              0.8888888888888888,
              "#fdca26"
             ],
             [
              1,
              "#f0f921"
             ]
            ],
            "type": "histogram2dcontour"
           }
          ],
          "mesh3d": [
           {
            "colorbar": {
             "outlinewidth": 0,
             "ticks": ""
            },
            "type": "mesh3d"
           }
          ],
          "parcoords": [
           {
            "line": {
             "colorbar": {
              "outlinewidth": 0,
              "ticks": ""
             }
            },
            "type": "parcoords"
           }
          ],
          "pie": [
           {
            "automargin": true,
            "type": "pie"
           }
          ],
          "scatter": [
           {
            "marker": {
             "colorbar": {
              "outlinewidth": 0,
              "ticks": ""
             }
            },
            "type": "scatter"
           }
          ],
          "scatter3d": [
           {
            "line": {
             "colorbar": {
              "outlinewidth": 0,
              "ticks": ""
             }
            },
            "marker": {
             "colorbar": {
              "outlinewidth": 0,
              "ticks": ""
             }
            },
            "type": "scatter3d"
           }
          ],
          "scattercarpet": [
           {
            "marker": {
             "colorbar": {
              "outlinewidth": 0,
              "ticks": ""
             }
            },
            "type": "scattercarpet"
           }
          ],
          "scattergeo": [
           {
            "marker": {
             "colorbar": {
              "outlinewidth": 0,
              "ticks": ""
             }
            },
            "type": "scattergeo"
           }
          ],
          "scattergl": [
           {
            "marker": {
             "colorbar": {
              "outlinewidth": 0,
              "ticks": ""
             }
            },
            "type": "scattergl"
           }
          ],
          "scattermapbox": [
           {
            "marker": {
             "colorbar": {
              "outlinewidth": 0,
              "ticks": ""
             }
            },
            "type": "scattermapbox"
           }
          ],
          "scatterpolar": [
           {
            "marker": {
             "colorbar": {
              "outlinewidth": 0,
              "ticks": ""
             }
            },
            "type": "scatterpolar"
           }
          ],
          "scatterpolargl": [
           {
            "marker": {
             "colorbar": {
              "outlinewidth": 0,
              "ticks": ""
             }
            },
            "type": "scatterpolargl"
           }
          ],
          "scatterternary": [
           {
            "marker": {
             "colorbar": {
              "outlinewidth": 0,
              "ticks": ""
             }
            },
            "type": "scatterternary"
           }
          ],
          "surface": [
           {
            "colorbar": {
             "outlinewidth": 0,
             "ticks": ""
            },
            "colorscale": [
             [
              0,
              "#0d0887"
             ],
             [
              0.1111111111111111,
              "#46039f"
             ],
             [
              0.2222222222222222,
              "#7201a8"
             ],
             [
              0.3333333333333333,
              "#9c179e"
             ],
             [
              0.4444444444444444,
              "#bd3786"
             ],
             [
              0.5555555555555556,
              "#d8576b"
             ],
             [
              0.6666666666666666,
              "#ed7953"
             ],
             [
              0.7777777777777778,
              "#fb9f3a"
             ],
             [
              0.8888888888888888,
              "#fdca26"
             ],
             [
              1,
              "#f0f921"
             ]
            ],
            "type": "surface"
           }
          ],
          "table": [
           {
            "cells": {
             "fill": {
              "color": "#EBF0F8"
             },
             "line": {
              "color": "white"
             }
            },
            "header": {
             "fill": {
              "color": "#C8D4E3"
             },
             "line": {
              "color": "white"
             }
            },
            "type": "table"
           }
          ]
         },
         "layout": {
          "annotationdefaults": {
           "arrowcolor": "#2a3f5f",
           "arrowhead": 0,
           "arrowwidth": 1
          },
          "autotypenumbers": "strict",
          "coloraxis": {
           "colorbar": {
            "outlinewidth": 0,
            "ticks": ""
           }
          },
          "colorscale": {
           "diverging": [
            [
             0,
             "#8e0152"
            ],
            [
             0.1,
             "#c51b7d"
            ],
            [
             0.2,
             "#de77ae"
            ],
            [
             0.3,
             "#f1b6da"
            ],
            [
             0.4,
             "#fde0ef"
            ],
            [
             0.5,
             "#f7f7f7"
            ],
            [
             0.6,
             "#e6f5d0"
            ],
            [
             0.7,
             "#b8e186"
            ],
            [
             0.8,
             "#7fbc41"
            ],
            [
             0.9,
             "#4d9221"
            ],
            [
             1,
             "#276419"
            ]
           ],
           "sequential": [
            [
             0,
             "#0d0887"
            ],
            [
             0.1111111111111111,
             "#46039f"
            ],
            [
             0.2222222222222222,
             "#7201a8"
            ],
            [
             0.3333333333333333,
             "#9c179e"
            ],
            [
             0.4444444444444444,
             "#bd3786"
            ],
            [
             0.5555555555555556,
             "#d8576b"
            ],
            [
             0.6666666666666666,
             "#ed7953"
            ],
            [
             0.7777777777777778,
             "#fb9f3a"
            ],
            [
             0.8888888888888888,
             "#fdca26"
            ],
            [
             1,
             "#f0f921"
            ]
           ],
           "sequentialminus": [
            [
             0,
             "#0d0887"
            ],
            [
             0.1111111111111111,
             "#46039f"
            ],
            [
             0.2222222222222222,
             "#7201a8"
            ],
            [
             0.3333333333333333,
             "#9c179e"
            ],
            [
             0.4444444444444444,
             "#bd3786"
            ],
            [
             0.5555555555555556,
             "#d8576b"
            ],
            [
             0.6666666666666666,
             "#ed7953"
            ],
            [
             0.7777777777777778,
             "#fb9f3a"
            ],
            [
             0.8888888888888888,
             "#fdca26"
            ],
            [
             1,
             "#f0f921"
            ]
           ]
          },
          "colorway": [
           "#636efa",
           "#EF553B",
           "#00cc96",
           "#ab63fa",
           "#FFA15A",
           "#19d3f3",
           "#FF6692",
           "#B6E880",
           "#FF97FF",
           "#FECB52"
          ],
          "font": {
           "color": "#2a3f5f"
          },
          "geo": {
           "bgcolor": "white",
           "lakecolor": "white",
           "landcolor": "#E5ECF6",
           "showlakes": true,
           "showland": true,
           "subunitcolor": "white"
          },
          "hoverlabel": {
           "align": "left"
          },
          "hovermode": "closest",
          "mapbox": {
           "style": "light"
          },
          "paper_bgcolor": "white",
          "plot_bgcolor": "#E5ECF6",
          "polar": {
           "angularaxis": {
            "gridcolor": "white",
            "linecolor": "white",
            "ticks": ""
           },
           "bgcolor": "#E5ECF6",
           "radialaxis": {
            "gridcolor": "white",
            "linecolor": "white",
            "ticks": ""
           }
          },
          "scene": {
           "xaxis": {
            "backgroundcolor": "#E5ECF6",
            "gridcolor": "white",
            "gridwidth": 2,
            "linecolor": "white",
            "showbackground": true,
            "ticks": "",
            "zerolinecolor": "white"
           },
           "yaxis": {
            "backgroundcolor": "#E5ECF6",
            "gridcolor": "white",
            "gridwidth": 2,
            "linecolor": "white",
            "showbackground": true,
            "ticks": "",
            "zerolinecolor": "white"
           },
           "zaxis": {
            "backgroundcolor": "#E5ECF6",
            "gridcolor": "white",
            "gridwidth": 2,
            "linecolor": "white",
            "showbackground": true,
            "ticks": "",
            "zerolinecolor": "white"
           }
          },
          "shapedefaults": {
           "line": {
            "color": "#2a3f5f"
           }
          },
          "ternary": {
           "aaxis": {
            "gridcolor": "white",
            "linecolor": "white",
            "ticks": ""
           },
           "baxis": {
            "gridcolor": "white",
            "linecolor": "white",
            "ticks": ""
           },
           "bgcolor": "#E5ECF6",
           "caxis": {
            "gridcolor": "white",
            "linecolor": "white",
            "ticks": ""
           }
          },
          "title": {
           "x": 0.05
          },
          "xaxis": {
           "automargin": true,
           "gridcolor": "white",
           "linecolor": "white",
           "ticks": "",
           "title": {
            "standoff": 15
           },
           "zerolinecolor": "white",
           "zerolinewidth": 2
          },
          "yaxis": {
           "automargin": true,
           "gridcolor": "white",
           "linecolor": "white",
           "ticks": "",
           "title": {
            "standoff": 15
           },
           "zerolinecolor": "white",
           "zerolinewidth": 2
          }
         }
        }
       }
      },
      "text/html": [
       "<div>                            <div id=\"3fde2743-6f7e-4223-b415-68a643a9e11c\" class=\"plotly-graph-div\" style=\"height:525px; width:100%;\"></div>            <script type=\"text/javascript\">                require([\"plotly\"], function(Plotly) {                    window.PLOTLYENV=window.PLOTLYENV || {};                                    if (document.getElementById(\"3fde2743-6f7e-4223-b415-68a643a9e11c\")) {                    Plotly.newPlot(                        \"3fde2743-6f7e-4223-b415-68a643a9e11c\",                        [{\"contours\":{\"coloring\":\"lines\",\"showlabels\":true},\"line\":{\"width\":2},\"type\":\"contour\",\"x\":[1.0,2.25,3.5,4.75,6.0,7.25,8.5,9.75,11.0,12.25,13.5,14.75,16.0,17.25,18.5,19.75,21.0,22.25,23.5,24.75,26.0,27.25,28.5,29.75,31.0,32.25,33.5,34.75,36.0,37.25,38.5,39.75,41.0,42.25,43.5,44.75,46.0,47.25,48.5,49.75,51.0,52.25,53.5,54.75,56.0,57.25,58.5,59.75,61.0,62.25,63.5,64.75,66.0,67.25,68.5,69.75,71.0,72.25,73.5,74.75,76.0,77.25,78.5,79.75,81.0,82.25,83.5,84.75,86.0,87.25,88.5,89.75,91.0,92.25,93.5,94.75,96.0,97.25,98.5,99.75,101.0,102.25,103.5,104.75,106.0,107.25,108.5,109.75,111.0,112.25,113.5,114.75,116.0,117.25,118.5,119.75,121.0,122.25,123.5,124.75],\"y\":[0.001,0.003,0.005,0.007,0.009000000000000001,0.011,0.013000000000000001,0.015,0.017,0.019000000000000003],\"z\":[[27.94761974682486,24.47289936878686,21.546014372181737,19.080578470011062,17.003827337947612,15.254470612915163,13.780882602778636,12.53957829693016,11.49392968963366,10.613084522018333,9.87105552400589,9.24595327061122,8.719340006549617,8.275685364065547,7.901907906784134,7.58698896596878,7.3216473696388755,7.09806546255755,6.909658329204911,6.750879407203457,6.617056752907819,6.504255125722265,6.409159819877734,6.328978814384741,6.261360352630684,6.2043235185728784,6.156199760137971,6.1155836335995,6.081291314908753,6.05232565323409,6.027846735090004,6.0071470901095285,5.989630806534878,5.974795939916073,5.962219695722611,5.951545948459219,5.942474728850203,5.934753368754301,5.928169042408084,5.922542483815581,5.9177226948215695,5.913582487650949,5.910014730330112,5.9069291841551355,5.9042498398489744,5.901912673771076,5.899863757942714,5.898057668096079,5.896456142752755,5.895026953747572,5.893742954855769,5.892581280438931,5.891522670453737,5.890550901897829,5.8896523099090405,5.888815384380902,5.888030430186462,5.88728928098029,5.8865850581300725,5.885911967661463,5.885265129222037,5.884640432015316,5.884034413452095,5.8834441569368305,5.882867205771727,5.882301490637018,5.881745268506645,5.881197071196092,5.880655662023556,5.8801199993050695,5.87958920560595,5.879062541840888,5.878539385458101,5.878019212063563,5.877501579942844,5.87698611702363,5.876472509894122,5.875960494553039,5.875449848618254,5.874940384764011,5.874431945193003,5.87392439698015,5.873417628150561,5.872911544375993,5.872406066192206,5.871901126655108,5.871396669366512,5.870892646811178,5.870389018956098,5.869885752070662,5.869382817732836,5.868880191992103,5.868377854664341,5.867875788737933,5.867373979873506,5.866872415982554,5.866371086872512,5.865869983947794,5.865369099957981,5.864868428785698],[20.758431345144743,14.33684247589595,10.691891389240086,8.622695484373281,7.447748471780988,6.780292459606751,6.400840600194315,6.184833117417724,6.061581776112976,5.990970683429655,5.950233888580775,5.926451611103131,5.912291816573025,5.903593541630854,5.89799542003978,5.894157365042357,5.891318870589778,5.889048345298575,5.887100858341244,5.885337409597939,5.883679115103735,5.882081207083403,5.880518278853977,5.878975911240449,5.877445920528933,5.875923661658663,5.874406497771295,5.87289293167324,5.871382112936628,5.869873558176859,5.868366992308887,5.866862258459412,5.865359266841666,5.863857965741601,5.862358325052442,5.860860326930452,5.859363960492047,5.857869218804378,5.856376097177471,5.8548845921950186,5.853394701164331,5.8519064218041965,5.850419752067734,5.848934690041857,5.847451233890217,5.845969381820832,5.844489132067713,5.843010482880414,5.84153343251814,5.840057979246372,5.838584121334953,5.837111857057024,5.835641184688388,5.83417210250717,5.832704608793619,5.831238701829982,5.829774379900459,5.828311641291143,5.826850484290012,5.825390907186906,5.823932908273524,5.822476485843422,5.821021638191999,5.819568363616498,5.818116660416004,5.816666526891449,5.815217961345595,5.813770962083038,5.812325527410212,5.810881655635384,5.809439345068643,5.807998594021913,5.806559400808933,5.805121763745282,5.803685681148339,5.80225115133732,5.800818172633252,5.799386743358974,5.797956861839144,5.796528526400229,5.795101735370505,5.793676487080055,5.792252779860772,5.790830612046348,5.78940998197228,5.787990887975862,5.7865733283961855,5.785157301574139,5.783742805852409,5.782329839575467,5.780918401089579,5.779508488742796,5.778100100884961,5.776693235867694,5.7752878920444015,5.773884067770269,5.772481761402266,5.771080971299124,5.769681695821369,5.768283933331284],[14.983962756239945,9.056203941047663,6.998880978009589,6.283756679195574,6.034085104841373,5.945826960067563,5.913547030682456,5.900682327431495,5.894553475901442,5.890763497940393,5.887787597368802,5.885096997646217,5.8825083234460624,5.879957978209342,5.8774239024498245,5.874898440980177,5.872378933767393,5.8698644530153326,5.867354671645216,5.864849470905553,5.862348804298512,5.859852650392074,5.857360996456141,5.854873832787822,5.852391150743548,5.849912942056599,5.847439198600441,5.844969912306628,5.842505075136321,5.840044679070392,5.837588716105965,5.83513717825522,5.832690057544945,5.830247346016369,5.827809035725089,5.825375118741022,5.822945587148377,5.820520433045625,5.818099648545484,5.815683225774871,5.813271156874895,5.810863434000824,5.8084600493220595,5.806060995022113,5.803666263298581,5.801275846363114,5.798889736441402,5.796507925773136,5.794130406611991,5.791757171225604,5.789388211895537,5.787023520917264,5.784663090600138,5.782306913267373,5.779954981256007,5.777607286916897,5.775263822614669,5.772924580727715,5.770589553648158,5.768258733781826,5.765932113548227,5.763609685380542,5.761291441725571,5.7589773750437265,5.756667477809009,5.754361742508976,5.752060161644725,5.749762727730861,5.747469433295478,5.74518027088013,5.742895233039812,5.740614312342933,5.738337501371296,5.73606479272006,5.733796178997735,5.731531652826146,5.729271206840409,5.727014833688915,5.724762526033297,5.722514276548411,5.720270077922318,5.718029922856238,5.71579380406456,5.713561714274785,5.711333646227528,5.709109592676478,5.706889546388381,5.704673500143021,5.702461446733184,5.7002533789646455,5.698049289656139,5.695849171639347,5.6936530177588605,5.69146082087216,5.689272573849603,5.68708826957439,5.684907900942542,5.6827314608628825,5.680558942257012,5.678390338059282],[10.624213980110477,6.757417155882004,6.057876850896914,5.928907547964801,5.902730861236294,5.895079113028458,5.890771933975223,5.88707464679595,5.883494596050563,5.8799430140360585,5.876403891212307,5.87287432506188,5.869353774270777,5.8658421229290925,5.862339331807489,5.858845375536474,5.85536023128949,5.85188387674412,5.848416289714692,5.844957448085977,5.841507329801136,5.838065912859424,5.834633175315671,5.831209095280066,5.8277936509180135,5.824386820449975,5.820988582151358,5.817598914352343,5.814217795437776,5.810845203847005,5.807481118073768,5.804125516666033,5.800778378225874,5.7974396814093305,5.794109404926277,5.790787527540275,5.787474028068453,5.784168885381359,5.78087207840283,5.7775835861098574,5.774303387532461,5.771031461753536,5.76776778790874,5.7645123451863505,5.761265112827127,5.758026070124195,5.754795196422893,5.751572471120656,5.7483578736668814,5.745151383562794,5.741952980361318,5.738762643666945,5.735580353135606,5.732406088474539,5.729239829442164,5.726081555847948,5.722931247552281,5.7197888844663485,5.716654446551993,5.713527913821603,5.7104092663379715,5.707298484214177,5.704195547613448,5.7011004367490505,5.698013131884148,5.694933613331678,5.69186186145424,5.688797856663949,5.685741579422327,5.6826930102401745,5.6796521296774385,5.676618918343102,5.673593356895047,5.670575426039936,5.667565106533099,5.664562379178395,5.661567224828095,5.6585796243827655,5.65559955879114,5.652627009050004,5.649661956204065,5.64670438134584,5.643754265615529,5.640811590200901,5.637876336337162,5.634948485306852,5.632028018439719,5.629114917112588,5.62620916274926,5.6233107368203825,5.620419620843337,5.617535796382119,5.6146592450472195,5.611789948495508,5.6089278884301175,5.606073046600325,5.603225404801437,5.600384944874675,5.5975516487070545,5.594725498231276],[7.679185016756334,6.02601352472886,5.909950110221885,5.897798698616645,5.892684989179206,5.888060896284361,5.883483768999434,5.878923642178009,5.874378445556908,5.869847994521658,5.8653322320596,5.860831109927463,5.856344580618639,5.851872596819761,5.847415111373502,5.842972077275605,5.838543447674211,5.8341291758693625,5.829729215312496,5.825343519605969,5.82097204250256,5.8166147379049775,5.8122715598653905,5.807942462584917,5.8036274004131725,5.799326327847763,5.79503919953382,5.790765970263515,5.786506594975583,5.782261028754854,5.778029226831776,5.773811144581931,5.76960673752559,5.765415961327218,5.761238771795022,5.757075124880481,5.7529249766778765,5.748788283423841,5.744665001496888,5.740555087416947,5.73645849784492,5.7323751895822115,5.728305119570279,5.724248244890177,5.720204522762105,5.716173910544957,5.712156365735871,5.708151845969782,5.70416030901897,5.700181712792624,5.696216015336392,5.692263174831936,5.6883231495965,5.684395898082463,5.6804813788769,5.676579550701153,5.67269037241039,5.6688138029931725,5.664949801571018,5.66109832739798,5.657259339860208,5.653432798475529,5.649618662893005,5.645816892892525,5.642027448384371,5.638250289408799,5.634485376135616,5.630732668863755,5.626992128020866,5.623263714162897,5.619547387973666,5.615843110264469,5.612150841973638,5.608470544166156,5.604802178033231,5.6011457048918905,5.597501086184574,5.593868283478727,5.590247258466393,5.586637972963812,5.583040388911021,5.579454468371442,5.5758801735314965,5.572317466700192,5.568766310308737,5.565226666910139,5.561698499178804,5.558181769910159,5.554676442020242,5.551182478545324,5.547699842641506,5.54422849758435,5.540768406768468,5.537319533707158,5.533881842032004,5.530455295492501,5.527039857955663,5.52363549340566,5.520242165943415,5.516859839786244],[6.148875866177513,5.906622464607983,5.898807723807974,5.893155090428113,5.887544304203116,5.88195592423362,5.876389685811771,5.870845499611714,5.865323278252757,5.859822934714919,5.854344382323101,5.848887534745605,5.843452305992744,5.838038610415512,5.832646362704225,5.827275477887175,5.821925871329295,5.816597458730826,5.811290156125977,5.80600387988162,5.800738546695955,5.795494073597218,5.790270377942348,5.785067377415703,5.779884990027757,5.774723134113805,5.769581728332688,5.764460691665493,5.759359943414295,5.754279403200864,5.749218990965426,5.7441786269653745,5.739158231774033,5.734157726279389,5.72917703168286,5.724216069498045,5.719274761549487,5.714353029971441,5.709450797206655,5.704567986005139,5.699704519422946,5.694860320820968,5.690035313863729,5.6852294225181685,5.680442571052454,5.675674684034791,5.670925686332223,5.666195503109458,5.661484059827684,5.656791282243395,5.652117096407217,5.647461428662756,5.642824205645419,5.638205354281275,5.633604801785891,5.629022475663192,5.624458303704314,5.619912213986474,5.6153841348718245,5.610873995006335,5.606381723318665,5.601907249019038,5.5974505015981375,5.593011410825981,5.588589906750835,5.584185919698084,5.579799380269156,5.575430219340421,5.571078368062101,5.566743757857183,5.562426320420345,5.558125987716871,5.553842691981588,5.549576365717793,5.545326941696183,5.541094352953815,5.536878532793026,5.5326794147804055,5.528496932745727,5.5243310207809255,5.520181613239042,5.516048644733196,5.511932050135565,5.5078317645763395,5.503747723442707,5.499679862377849,5.495628117279903,5.491592424300968,5.487572719846099,5.483568940572289,5.479581023387496,5.47560890544962,5.471652524165541,5.467711817190112,5.46378672242518,5.45987717801862,5.455983122363347,5.452104494096349,5.448241232097722,5.444393275489706],[6.0332865283740205,5.9029714052290005,5.8957117505319,5.889067487320581,5.882457088311258,5.875877647391994,5.8693290065936425,5.862811021670953,5.856323549115572,5.849866446091248,5.843439570430373,5.837042780630875,5.830675935853081,5.8243388959166245,5.81803152129736,5.811753673124296,5.805505213176527,5.7992860038801926,5.793095908305461,5.786934790163493,5.78080251380346,5.774698944209544,5.768623946997977,5.762577388414073,5.756559135329287,5.750569055238282,5.744607016256011,5.738672887114819,5.732766537161546,5.726887836354653,5.7210366552613605,5.715212865054796,5.709416337511163,5.703646945006904,5.69790456051591,5.69218905760671,5.686500310439689,5.680838193764323,5.67520258291642,5.669593353815366,5.664010382961406,5.658453547432919,5.652922724883709,5.647417793540319,5.641938632199336,5.636485120224742,5.6310571375452385,5.625654564651619,5.620277282594125,5.6149251729798335,5.609598117970051,5.604296000277717,5.599018703164823,5.5937661104398355,5.58853810645515,5.583334576104536,5.578155404820605,5.573000478572286,5.567869683862324,5.5627629077247605,5.557680037722471,5.552620961944677,5.547585569004479,5.542573748036412,5.537585388693996,5.53262038114732,5.527678616080604,5.522759984689813,5.517864378680245,5.512991690264158,5.50814181215839,5.503314637581999,5.4985100602539125,5.4937279743905885,5.48896827470368,5.484230856397731,5.479515615167851,5.474822447197431,5.470151249155858,5.465501918196229,5.460874351953098,5.456268448540219,5.451684106548299,5.447121225042771,5.442579703561567,5.438059442112908,5.433560341173102,5.4290823016843515,5.424625225052578,5.4201890131452455,5.4157735682892,5.411378793268525,5.407004591322388,5.40265086614293,5.398317521873127,5.3940044631046895,5.389711594875955,5.385438822669806,5.381186052411578,5.376953190466999],[7.332417003345849,5.9778857889914105,5.896859315832296,5.885220365137622,5.8773989167416,5.869824165932682,5.8623014560824,5.854819978731034,5.847378937936586,5.839978084105321,5.8326171985085775,5.82529606520628,5.818014469512059,5.81077219790372,5.803569038012447,5.796404778616338,5.789279209634179,5.782192122119308,5.775143308253467,5.768132561340715,5.76115967580137,5.754224447165977,5.747326672069314,5.7404661482444315,5.7336426745167115,5.726856050797977,5.720106078080625,5.713392558431786,5.706715294987526,5.7000740919470605,5.693468754567034,5.6868990891557925,5.680364903067709,5.673866004697534,5.667402203474779,5.660973309858129,5.654579135329881,5.648219492390412,5.641894194552695,5.635603056336818,5.629345893264544,5.623122521853916,5.616932759613859,5.610776425038842,5.604653337603547,5.598563317757579,5.592506186920203,5.586481767475104,5.5804898827651765,5.574530357087354,5.568603015687442,5.562707684755009,5.556844191418281,5.551012363739073,5.545212030707746,5.539443022238197,5.533705169162872,5.527998303227796,5.522322257087647,5.5166768643008535,5.511061959324702,5.505477377510489,5.4999229550986914,5.494398529214172,5.488903937861391,5.48343901991966,5.4780036151384275,5.472597564132561,5.467220708377693,5.461872890205556,5.456553952799371,5.451263740189239,5.446002097247581,5.440768869684573,5.435563904043633,5.430387047696917,5.425238148840844,5.420117056491647,5.415023620480938,5.409957691451317,5.404919120851978,5.399907760934364,5.39492346474783,5.389966086135335,5.385035479729156,5.3801315009466215,5.375254005985879,5.370402851821675,5.365577896201154,5.360778997639705,5.356006015416789,5.351258809571834,5.346537240900119,5.341841170948692,5.337170462012318,5.332524977129429,5.327904580078124,5.323309135372158,5.318738508256978,5.314192564705769],[10.04626729109301,6.553289070984578,5.993223337177487,5.89732672212324,5.874927916403833,5.864204116185344,5.855371782639969,5.846882432030815,5.83849075437498,5.830157664558207,5.821876713541745,5.8136466184604645,5.805466915585568,5.797337272409526,5.78925737877586,5.781226929641059,5.7732456223370745,5.765313156128522,5.75742923213309,5.749593553299471,5.74180582439447,5.734065751991597,5.726373044459971,5.718727411953339,5.7111285663991325,5.703576221487631,5.696070092661169,5.688609897103406,5.681195353728688,5.6738261831714345,5.666502107775636,5.6592228515843725,5.651988140329427,5.644797701420952,5.637651263937194,5.630548558614286,5.6234893178361025,5.616473275624183,5.609500167627704,5.602569731113514,5.595681704956244,5.588835829628468,5.582031847190912,5.575269501282755,5.568548537111954,5.561868701445648,5.5552297426006225,5.548631410433819,5.542073456332915,5.53555563320695,5.529077695477032,5.522639399067059,5.516240501394549,5.50988076136148,5.503559939345216,5.497277797189475,5.491034098195361,5.484828607112439,5.47866109012987,5.472531314867611,5.4664390503676525,5.460384067085317,5.454366136880609,5.448385033009623,5.442440530115996,5.43653240422242,5.430660432722203,5.424824394370878,5.419024069277872,5.413259238898213,5.407529686024307,5.4018351947777425,5.396175550601165,5.390550540250189,5.384959951785365,5.379403574564191,5.373881199233178,5.368392617719967,5.36293762322548,5.357516010216133,5.352127574416092,5.3467721127995755,5.341449423583207,5.336159306218405,5.330901561383837,5.3256759909779054,5.320482398111278,5.315320587099478,5.310190363455502,5.3050915338825035,5.300023906266499,5.2949872896691375,5.289981494320501,5.285006331611952,5.280061614089038,5.275147155444422,5.270262770510857,5.26540827525422,5.260583486766569,5.255788223259258],[14.174837391615497,8.51020271898775,6.7128539994923315,6.138096453487713,5.949875523952463,5.883893121890161,5.856597697737877,5.841576211346162,5.8304785383124935,5.820664696287361,5.811299823860313,5.802119705583251,5.7930405235029845,5.784035489834361,5.775095847445231,5.766218541119521,5.75740232012125,5.748646506104002,5.739950603602947,5.731314176888363,5.722736811022823,5.714218099537355,5.7057576405225765,5.697355035380161,5.689009888415348,5.680721806695424,5.67249039999238,5.664315280752266,5.6561960640730415,5.648132367685252,5.640123811933625,5.6321700197590765,5.624270616680922,5.61642523077923,5.608633492677314,5.6008950355243305,5.593209494978012,5.585576509187517,5.577995718776381,5.57046676682561,5.562989298856865,5.555562962815783,5.548187409055393,5.540862290319653,5.533587261727114,5.52636198075466,5.519186107221406,5.512059303272663,5.504981233364036,5.497951564245631,5.490969964946362,5.484036106758368,5.477149663221532,5.4703103101081165,5.463517725407499,5.45677158931101,5.450071584196871,5.443417394615242,5.436808707273376,5.430245211020864,5.42372659683498,5.417252557806141,5.410822789123453,5.404436988060359,5.398094853960383,5.391796088222984,5.38554039428949,5.379327477629132,5.373157045725188,5.367028808061204,5.360942476107314,5.354897763306657,5.348894385061888,5.342932058721777,5.337010503567902,5.33112944080143,5.325288593529987,5.319487686754637,5.3137264473569115,5.308004604085973,5.302321887545825,5.296678030182644,5.291072766272172,5.285505831907207,5.279976964985185,5.274485905195829,5.269032394008902,5.2636161746620305,5.258236992148619,5.252894593205835,5.247588726302699,5.242319141628225,5.237085591079677,5.231887828250873,5.226725608420591,5.2215986885410475,5.216506827226449,5.211449784741632,5.206427322990775,5.201439205506186]]}],                        {\"template\":{\"data\":{\"bar\":[{\"error_x\":{\"color\":\"#2a3f5f\"},\"error_y\":{\"color\":\"#2a3f5f\"},\"marker\":{\"line\":{\"color\":\"#E5ECF6\",\"width\":0.5},\"pattern\":{\"fillmode\":\"overlay\",\"size\":10,\"solidity\":0.2}},\"type\":\"bar\"}],\"barpolar\":[{\"marker\":{\"line\":{\"color\":\"#E5ECF6\",\"width\":0.5},\"pattern\":{\"fillmode\":\"overlay\",\"size\":10,\"solidity\":0.2}},\"type\":\"barpolar\"}],\"carpet\":[{\"aaxis\":{\"endlinecolor\":\"#2a3f5f\",\"gridcolor\":\"white\",\"linecolor\":\"white\",\"minorgridcolor\":\"white\",\"startlinecolor\":\"#2a3f5f\"},\"baxis\":{\"endlinecolor\":\"#2a3f5f\",\"gridcolor\":\"white\",\"linecolor\":\"white\",\"minorgridcolor\":\"white\",\"startlinecolor\":\"#2a3f5f\"},\"type\":\"carpet\"}],\"choropleth\":[{\"colorbar\":{\"outlinewidth\":0,\"ticks\":\"\"},\"type\":\"choropleth\"}],\"contour\":[{\"colorbar\":{\"outlinewidth\":0,\"ticks\":\"\"},\"colorscale\":[[0.0,\"#0d0887\"],[0.1111111111111111,\"#46039f\"],[0.2222222222222222,\"#7201a8\"],[0.3333333333333333,\"#9c179e\"],[0.4444444444444444,\"#bd3786\"],[0.5555555555555556,\"#d8576b\"],[0.6666666666666666,\"#ed7953\"],[0.7777777777777778,\"#fb9f3a\"],[0.8888888888888888,\"#fdca26\"],[1.0,\"#f0f921\"]],\"type\":\"contour\"}],\"contourcarpet\":[{\"colorbar\":{\"outlinewidth\":0,\"ticks\":\"\"},\"type\":\"contourcarpet\"}],\"heatmap\":[{\"colorbar\":{\"outlinewidth\":0,\"ticks\":\"\"},\"colorscale\":[[0.0,\"#0d0887\"],[0.1111111111111111,\"#46039f\"],[0.2222222222222222,\"#7201a8\"],[0.3333333333333333,\"#9c179e\"],[0.4444444444444444,\"#bd3786\"],[0.5555555555555556,\"#d8576b\"],[0.6666666666666666,\"#ed7953\"],[0.7777777777777778,\"#fb9f3a\"],[0.8888888888888888,\"#fdca26\"],[1.0,\"#f0f921\"]],\"type\":\"heatmap\"}],\"heatmapgl\":[{\"colorbar\":{\"outlinewidth\":0,\"ticks\":\"\"},\"colorscale\":[[0.0,\"#0d0887\"],[0.1111111111111111,\"#46039f\"],[0.2222222222222222,\"#7201a8\"],[0.3333333333333333,\"#9c179e\"],[0.4444444444444444,\"#bd3786\"],[0.5555555555555556,\"#d8576b\"],[0.6666666666666666,\"#ed7953\"],[0.7777777777777778,\"#fb9f3a\"],[0.8888888888888888,\"#fdca26\"],[1.0,\"#f0f921\"]],\"type\":\"heatmapgl\"}],\"histogram\":[{\"marker\":{\"pattern\":{\"fillmode\":\"overlay\",\"size\":10,\"solidity\":0.2}},\"type\":\"histogram\"}],\"histogram2d\":[{\"colorbar\":{\"outlinewidth\":0,\"ticks\":\"\"},\"colorscale\":[[0.0,\"#0d0887\"],[0.1111111111111111,\"#46039f\"],[0.2222222222222222,\"#7201a8\"],[0.3333333333333333,\"#9c179e\"],[0.4444444444444444,\"#bd3786\"],[0.5555555555555556,\"#d8576b\"],[0.6666666666666666,\"#ed7953\"],[0.7777777777777778,\"#fb9f3a\"],[0.8888888888888888,\"#fdca26\"],[1.0,\"#f0f921\"]],\"type\":\"histogram2d\"}],\"histogram2dcontour\":[{\"colorbar\":{\"outlinewidth\":0,\"ticks\":\"\"},\"colorscale\":[[0.0,\"#0d0887\"],[0.1111111111111111,\"#46039f\"],[0.2222222222222222,\"#7201a8\"],[0.3333333333333333,\"#9c179e\"],[0.4444444444444444,\"#bd3786\"],[0.5555555555555556,\"#d8576b\"],[0.6666666666666666,\"#ed7953\"],[0.7777777777777778,\"#fb9f3a\"],[0.8888888888888888,\"#fdca26\"],[1.0,\"#f0f921\"]],\"type\":\"histogram2dcontour\"}],\"mesh3d\":[{\"colorbar\":{\"outlinewidth\":0,\"ticks\":\"\"},\"type\":\"mesh3d\"}],\"parcoords\":[{\"line\":{\"colorbar\":{\"outlinewidth\":0,\"ticks\":\"\"}},\"type\":\"parcoords\"}],\"pie\":[{\"automargin\":true,\"type\":\"pie\"}],\"scatter\":[{\"marker\":{\"colorbar\":{\"outlinewidth\":0,\"ticks\":\"\"}},\"type\":\"scatter\"}],\"scatter3d\":[{\"line\":{\"colorbar\":{\"outlinewidth\":0,\"ticks\":\"\"}},\"marker\":{\"colorbar\":{\"outlinewidth\":0,\"ticks\":\"\"}},\"type\":\"scatter3d\"}],\"scattercarpet\":[{\"marker\":{\"colorbar\":{\"outlinewidth\":0,\"ticks\":\"\"}},\"type\":\"scattercarpet\"}],\"scattergeo\":[{\"marker\":{\"colorbar\":{\"outlinewidth\":0,\"ticks\":\"\"}},\"type\":\"scattergeo\"}],\"scattergl\":[{\"marker\":{\"colorbar\":{\"outlinewidth\":0,\"ticks\":\"\"}},\"type\":\"scattergl\"}],\"scattermapbox\":[{\"marker\":{\"colorbar\":{\"outlinewidth\":0,\"ticks\":\"\"}},\"type\":\"scattermapbox\"}],\"scatterpolar\":[{\"marker\":{\"colorbar\":{\"outlinewidth\":0,\"ticks\":\"\"}},\"type\":\"scatterpolar\"}],\"scatterpolargl\":[{\"marker\":{\"colorbar\":{\"outlinewidth\":0,\"ticks\":\"\"}},\"type\":\"scatterpolargl\"}],\"scatterternary\":[{\"marker\":{\"colorbar\":{\"outlinewidth\":0,\"ticks\":\"\"}},\"type\":\"scatterternary\"}],\"surface\":[{\"colorbar\":{\"outlinewidth\":0,\"ticks\":\"\"},\"colorscale\":[[0.0,\"#0d0887\"],[0.1111111111111111,\"#46039f\"],[0.2222222222222222,\"#7201a8\"],[0.3333333333333333,\"#9c179e\"],[0.4444444444444444,\"#bd3786\"],[0.5555555555555556,\"#d8576b\"],[0.6666666666666666,\"#ed7953\"],[0.7777777777777778,\"#fb9f3a\"],[0.8888888888888888,\"#fdca26\"],[1.0,\"#f0f921\"]],\"type\":\"surface\"}],\"table\":[{\"cells\":{\"fill\":{\"color\":\"#EBF0F8\"},\"line\":{\"color\":\"white\"}},\"header\":{\"fill\":{\"color\":\"#C8D4E3\"},\"line\":{\"color\":\"white\"}},\"type\":\"table\"}]},\"layout\":{\"annotationdefaults\":{\"arrowcolor\":\"#2a3f5f\",\"arrowhead\":0,\"arrowwidth\":1},\"autotypenumbers\":\"strict\",\"coloraxis\":{\"colorbar\":{\"outlinewidth\":0,\"ticks\":\"\"}},\"colorscale\":{\"diverging\":[[0,\"#8e0152\"],[0.1,\"#c51b7d\"],[0.2,\"#de77ae\"],[0.3,\"#f1b6da\"],[0.4,\"#fde0ef\"],[0.5,\"#f7f7f7\"],[0.6,\"#e6f5d0\"],[0.7,\"#b8e186\"],[0.8,\"#7fbc41\"],[0.9,\"#4d9221\"],[1,\"#276419\"]],\"sequential\":[[0.0,\"#0d0887\"],[0.1111111111111111,\"#46039f\"],[0.2222222222222222,\"#7201a8\"],[0.3333333333333333,\"#9c179e\"],[0.4444444444444444,\"#bd3786\"],[0.5555555555555556,\"#d8576b\"],[0.6666666666666666,\"#ed7953\"],[0.7777777777777778,\"#fb9f3a\"],[0.8888888888888888,\"#fdca26\"],[1.0,\"#f0f921\"]],\"sequentialminus\":[[0.0,\"#0d0887\"],[0.1111111111111111,\"#46039f\"],[0.2222222222222222,\"#7201a8\"],[0.3333333333333333,\"#9c179e\"],[0.4444444444444444,\"#bd3786\"],[0.5555555555555556,\"#d8576b\"],[0.6666666666666666,\"#ed7953\"],[0.7777777777777778,\"#fb9f3a\"],[0.8888888888888888,\"#fdca26\"],[1.0,\"#f0f921\"]]},\"colorway\":[\"#636efa\",\"#EF553B\",\"#00cc96\",\"#ab63fa\",\"#FFA15A\",\"#19d3f3\",\"#FF6692\",\"#B6E880\",\"#FF97FF\",\"#FECB52\"],\"font\":{\"color\":\"#2a3f5f\"},\"geo\":{\"bgcolor\":\"white\",\"lakecolor\":\"white\",\"landcolor\":\"#E5ECF6\",\"showlakes\":true,\"showland\":true,\"subunitcolor\":\"white\"},\"hoverlabel\":{\"align\":\"left\"},\"hovermode\":\"closest\",\"mapbox\":{\"style\":\"light\"},\"paper_bgcolor\":\"white\",\"plot_bgcolor\":\"#E5ECF6\",\"polar\":{\"angularaxis\":{\"gridcolor\":\"white\",\"linecolor\":\"white\",\"ticks\":\"\"},\"bgcolor\":\"#E5ECF6\",\"radialaxis\":{\"gridcolor\":\"white\",\"linecolor\":\"white\",\"ticks\":\"\"}},\"scene\":{\"xaxis\":{\"backgroundcolor\":\"#E5ECF6\",\"gridcolor\":\"white\",\"gridwidth\":2,\"linecolor\":\"white\",\"showbackground\":true,\"ticks\":\"\",\"zerolinecolor\":\"white\"},\"yaxis\":{\"backgroundcolor\":\"#E5ECF6\",\"gridcolor\":\"white\",\"gridwidth\":2,\"linecolor\":\"white\",\"showbackground\":true,\"ticks\":\"\",\"zerolinecolor\":\"white\"},\"zaxis\":{\"backgroundcolor\":\"#E5ECF6\",\"gridcolor\":\"white\",\"gridwidth\":2,\"linecolor\":\"white\",\"showbackground\":true,\"ticks\":\"\",\"zerolinecolor\":\"white\"}},\"shapedefaults\":{\"line\":{\"color\":\"#2a3f5f\"}},\"ternary\":{\"aaxis\":{\"gridcolor\":\"white\",\"linecolor\":\"white\",\"ticks\":\"\"},\"baxis\":{\"gridcolor\":\"white\",\"linecolor\":\"white\",\"ticks\":\"\"},\"bgcolor\":\"#E5ECF6\",\"caxis\":{\"gridcolor\":\"white\",\"linecolor\":\"white\",\"ticks\":\"\"}},\"title\":{\"x\":0.05},\"xaxis\":{\"automargin\":true,\"gridcolor\":\"white\",\"linecolor\":\"white\",\"ticks\":\"\",\"title\":{\"standoff\":15},\"zerolinecolor\":\"white\",\"zerolinewidth\":2},\"yaxis\":{\"automargin\":true,\"gridcolor\":\"white\",\"linecolor\":\"white\",\"ticks\":\"\",\"title\":{\"standoff\":15},\"zerolinecolor\":\"white\",\"zerolinewidth\":2}}}},                        {\"responsive\": true}                    ).then(function(){\n",
       "                            \n",
       "var gd = document.getElementById('3fde2743-6f7e-4223-b415-68a643a9e11c');\n",
       "var x = new MutationObserver(function (mutations, observer) {{\n",
       "        var display = window.getComputedStyle(gd).display;\n",
       "        if (!display || display === 'none') {{\n",
       "            console.log([gd, 'removed!']);\n",
       "            Plotly.purge(gd);\n",
       "            observer.disconnect();\n",
       "        }}\n",
       "}});\n",
       "\n",
       "// Listen for the removal of the full notebook cells\n",
       "var notebookContainer = gd.closest('#notebook-container');\n",
       "if (notebookContainer) {{\n",
       "    x.observe(notebookContainer, {childList: true});\n",
       "}}\n",
       "\n",
       "// Listen for the clearing of the current output cell\n",
       "var outputEl = gd.closest('.output');\n",
       "if (outputEl) {{\n",
       "    x.observe(outputEl, {childList: true});\n",
       "}}\n",
       "\n",
       "                        })                };                });            </script>        </div>"
      ]
     },
     "metadata": {},
     "output_type": "display_data"
    }
   ],
   "source": [
    "import plotly.graph_objects as go\n",
    "\n",
    "\n",
    "\n",
    "fig = go.Figure(data=go.Contour(\n",
    "\tx=x, y=y, z=z,\n",
    "\tcontours=dict(\n",
    "\t\tcoloring='lines',\n",
    "\t\tshowlabels=True,),\n",
    "    line_width=2\n",
    "))\n",
    "\n",
    "fig.show()\n",
    "\n",
    "# x -> Value of the cost function\n",
    "# y -> Learning rates\n",
    "# z -> The value of the cost function at a given learning rate alpha\n"
   ]
  },
  {
   "cell_type": "markdown",
   "metadata": {
    "id": "cMJ33_15ncSx"
   },
   "source": [
    "## Inference\n",
    "\n",
    "If slope is +ve : $\\theta$j = $\\theta$j – (+ve value). Hence value of $\\theta$j decreases. <br >\n",
    "If slope is -ve : $\\theta$j = $\\theta$j – (-ve value). Hence value of $\\theta$j increases. <br >\n",
    "The choice of correct learning rate is very important as it ensures that Gradient Descent converges in a reasonable time:\n",
    "<br >- If we choose α to be very large, Gradient Descent can overshoot the minimum. It may fail to converge or even diverge.\n",
    "<br >- \tIf we choose α to be very small, Gradient Descent will take small steps to reach local minima and will take a longer time to reach minima.\n",
    "\n",
    "Code Link: https://github.com/ViShNu-34/ITIT-4107-2021/blob/main/Assignment%204/2018IMT_034_Assignment_4.ipynb"
   ]
  }
 ],
 "metadata": {
  "accelerator": "TPU",
  "colab": {
   "collapsed_sections": [],
   "name": "2018IMT-034_Assignment-4.ipynb",
   "provenance": []
  },
  "kernelspec": {
   "display_name": "Python 3 (ipykernel)",
   "language": "python",
   "name": "python3"
  },
  "language_info": {
   "codemirror_mode": {
    "name": "ipython",
    "version": 3
   },
   "file_extension": ".py",
   "mimetype": "text/x-python",
   "name": "python",
   "nbconvert_exporter": "python",
   "pygments_lexer": "ipython3",
   "version": "3.8.10"
  }
 },
 "nbformat": 4,
 "nbformat_minor": 1
}
